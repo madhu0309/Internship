{
 "cells": [
  {
   "cell_type": "code",
   "execution_count": 1,
   "metadata": {},
   "outputs": [],
   "source": [
    "import urllib3, requests, json\n",
    "\n",
    "# retrieve your wml_service_credentials_username, wml_service_credentials_password, and wml_service_credentials_url from the\n",
    "# Service credentials associated with your IBM Cloud Watson Machine Learning Service instance\n",
    "\n",
    "wml_credentials={\n",
    "\"url\": \"https://ibm-watson-ml.eu-gb.bluemix.net\",\n",
    "\"username\": \"be4e66c0-97f6-4274-87ea-5385e7141feb\",\n",
    "\"password\": \"a5fd994a-1228-4bea-ba5a-578667530b8c\"\n",
    "}\n",
    "\n",
    "# {\n",
    "#   \"username\": \"be4e66c0-97f6-4274-87ea-5385e7141feb\",\n",
    "#   \"password\": \"a5fd994a-1228-4bea-ba5a-578667530b8c\",\n",
    "#   \"instance_id\": \"3cf5e26f-161f-4782-ae3e-1243aaa1ceff\",\n",
    "#   \"url\": \"https://ibm-watson-ml.eu-gb.bluemix.net\"\n",
    "# }"
   ]
  },
  {
   "cell_type": "code",
   "execution_count": 2,
   "metadata": {},
   "outputs": [
    {
     "name": "stdout",
     "output_type": "stream",
     "text": [
      "Scoring response\n",
      "{'fields': ['sepal_length', 'sepal_width', 'petal_length', 'petal_width', 'features', 'rawPrediction', 'probability', 'prediction', 'nodeADP_class', 'nodeADP_classes'], 'values': [[5.1, 3.5, 1.4, 0.2, [6.018938825357798, 8.108715033170855, 0.8016380423909415, 0.2659019866559016], [-17.781507401267422, -17.025186965341987, -15.337567539712632], [0.06826518773658453, 0.14543370923705454, 0.7863011030263608], 2.0, 'setosa', ['virginica', 'versicolor', 'setosa']]]}\n"
     ]
    }
   ],
   "source": [
    "\n",
    "\n",
    "headers = urllib3.util.make_headers(basic_auth='{username}:{password}'.format(username=wml_credentials['username'], password=wml_credentials['password']))\n",
    "url = '{}/v3/identity/token'.format(wml_credentials['url'])\n",
    "response = requests.get(url, headers=headers)\n",
    "mltoken = json.loads(response.text).get('token')\n",
    "\n",
    "header = {'Content-Type': 'application/json', 'Authorization': 'Bearer ' + mltoken}\n",
    "\n",
    "# NOTE: manually define and pass the array(s) of values to be scored in the next line\n",
    "payload_scoring = {\"fields\": [\"sepal_length\", \"sepal_width\", \"petal_length\", \"petal_width\"], \"values\": [[5.1,3.5,1.4,0.2]]}\n",
    "\n",
    "response_scoring = requests.post('https://ibm-watson-ml.eu-gb.bluemix.net/v3/wml_instances/3cf5e26f-161f-4782-ae3e-1243aaa1ceff/published_models/bf5bf432-b8a0-46de-9a9e-877e124ae8f1/deployments/fb70121e-d63f-4295-9104-14f667e4f075/online', json=payload_scoring, headers=header)\n",
    "print(\"Scoring response\")\n",
    "print(json.loads(response_scoring.text))\n"
   ]
  },
  {
   "cell_type": "code",
   "execution_count": null,
   "metadata": {},
   "outputs": [],
   "source": []
  },
  {
   "cell_type": "code",
   "execution_count": null,
   "metadata": {},
   "outputs": [],
   "source": []
  },
  {
   "cell_type": "code",
   "execution_count": null,
   "metadata": {},
   "outputs": [],
   "source": []
  },
  {
   "cell_type": "code",
   "execution_count": null,
   "metadata": {},
   "outputs": [],
   "source": []
  },
  {
   "cell_type": "code",
   "execution_count": 1,
   "metadata": {},
   "outputs": [
    {
     "name": "stdout",
     "output_type": "stream",
     "text": [
      "Scoring response\n",
      "{'fields': ['sepal_length', 'sepal_width', 'petal_length', 'petal_width', 'features', 'rawPrediction', 'probability', 'prediction', 'nodeADP_class', 'nodeADP_classes'], 'values': [[6.0, 5.0, 4.0, 1.0, [7.0715711252263596, 11.59887487237813, 2.243020294945524, 1.3081992504173812], [0.0, 0.0, 20.0], [0.0, 0.0, 1.0], 2.0, 'versicolor', ['setosa', 'virginica', 'versicolor']]]}\n"
     ]
    }
   ],
   "source": [
    "import urllib3, requests, json\n",
    "\n",
    "# retrieve your wml_service_credentials_username, wml_service_credentials_password, and wml_service_credentials_url from the\n",
    "# Service credentials associated with your IBM Cloud Watson Machine Learning Service instance\n",
    "\n",
    "wml_credentials={\n",
    "  \"username\": \"e10f9358-32d1-4e6c-993d-d1fd33fc6fdf\",\n",
    "  \"password\": \"0b3ad912-b3ef-4f8c-8eeb-0aa4898feb96\",\n",
    "  \"instance_id\": \"33c71ef5-8cf3-4fa4-aecb-3e5c9d27e4ad\",\n",
    "  \"url\": \"https://ibm-watson-ml.eu-gb.bluemix.net\"\n",
    "}\n",
    "\n",
    "\n",
    "# wml_credentials={\n",
    "# \"url\": wml_service_credentials_url,\n",
    "# \"username\": wml_service_credentials_username,\n",
    "# \"password\": wml_service_credentials_password\n",
    "# }\n",
    "\n",
    "headers = urllib3.util.make_headers(basic_auth='{username}:{password}'.format(username=wml_credentials['username'], password=wml_credentials['password']))\n",
    "url = '{}/v3/identity/token'.format(wml_credentials['url'])\n",
    "response = requests.get(url, headers=headers)\n",
    "mltoken = json.loads(response.text).get('token')\n",
    "\n",
    "header = {'Content-Type': 'application/json', 'Authorization': 'Bearer ' + mltoken}\n",
    "input_values = [6, 5 , 4 ,1]\n",
    "# NOTE: manually define and pass the array(s) of values to be scored in the next line\n",
    "payload_scoring = {\"fields\": [\"sepal_length\", \"sepal_width\", \"petal_length\", \"petal_width\"], \"values\": [input_values]}\n",
    "\n",
    "response_scoring = requests.post('https://ibm-watson-ml.eu-gb.bluemix.net/v3/wml_instances/33c71ef5-8cf3-4fa4-aecb-3e5c9d27e4ad/published_models/b90833c1-06ef-42a9-834a-982b770604aa/deployments/898e9d17-1953-4910-b915-42b1e36ebb25/online', json=payload_scoring, headers=header)\n",
    "print(\"Scoring response\")\n",
    "print(json.loads(response_scoring.text))"
   ]
  },
  {
   "cell_type": "code",
   "execution_count": null,
   "metadata": {},
   "outputs": [],
   "source": []
  },
  {
   "cell_type": "code",
   "execution_count": null,
   "metadata": {},
   "outputs": [],
   "source": []
  },
  {
   "cell_type": "code",
   "execution_count": null,
   "metadata": {},
   "outputs": [],
   "source": []
  },
  {
   "cell_type": "code",
   "execution_count": null,
   "metadata": {},
   "outputs": [],
   "source": []
  }
 ],
 "metadata": {
  "kernelspec": {
   "display_name": "Python 3",
   "language": "python",
   "name": "python3"
  },
  "language_info": {
   "codemirror_mode": {
    "name": "ipython",
    "version": 3
   },
   "file_extension": ".py",
   "mimetype": "text/x-python",
   "name": "python",
   "nbconvert_exporter": "python",
   "pygments_lexer": "ipython3",
   "version": "3.6.4"
  }
 },
 "nbformat": 4,
 "nbformat_minor": 2
}

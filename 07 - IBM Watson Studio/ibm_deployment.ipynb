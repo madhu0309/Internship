{
 "cells": [
  {
   "cell_type": "code",
   "execution_count": 1,
   "metadata": {},
   "outputs": [],
   "source": [
    "import urllib3, requests, json\n",
    "\n",
    "# retrieve your wml_service_credentials_username, wml_service_credentials_password, and wml_service_credentials_url from the\n",
    "# Service credentials associated with your IBM Cloud Watson Machine Learning Service instance\n",
    "\n",
    "# {\n",
    "#   \"username\": \"8d6bc0fb-e3bc-4407-885a-2a8762170ece\",\n",
    "#   \"password\": \"a72b9235-31a2-4d43-92c0-35436266a1f3\",\n",
    "#   \"instance_id\": \"c14274be-cfc7-464d-8d1d-71609743f8e6\",\n",
    "#   \"url\": \"https://ibm-watson-ml.mybluemix.net\"\n",
    "# } ctrl + ?\n",
    "\n",
    "wml_credentials={\n",
    "\"url\": \"https://ibm-watson-ml.mybluemix.net\",\n",
    "\"username\": \"8d6bc0fb-e3bc-4407-885a-2a8762170ece\",\n",
    "\"password\": \"a72b9235-31a2-4d43-92c0-35436266a1f3\"\n",
    "}\n"
   ]
  },
  {
   "cell_type": "code",
   "execution_count": 4,
   "metadata": {},
   "outputs": [],
   "source": [
    "model_inputs = [6.5, 2.8, 4.6,1.5] # versicolor"
   ]
  },
  {
   "cell_type": "code",
   "execution_count": 6,
   "metadata": {},
   "outputs": [
    {
     "name": "stdout",
     "output_type": "stream",
     "text": [
      "Scoring response\n",
      "{'fields': ['sepal_length', 'sepal_width', 'petal_length', 'petal_width', 'features', 'rawPrediction', 'probability', 'prediction', 'nodeADP_class', 'nodeADP_classes'], 'values': [[6.5, 2.8, 4.6, 1.5, [8.043007154046212, 6.59137654019197, 2.7196119461906147, 2.058395137132373], [19.714285714285715, 0.2857142857142857, 0.0], [0.9857142857142858, 0.014285714285714285, 0.0], 0.0, 'versicolor', ['versicolor', 'virginica', 'setosa']]]}\n"
     ]
    }
   ],
   "source": [
    "\n",
    "headers = urllib3.util.make_headers(basic_auth='{username}:{password}'.format(username=wml_credentials['username'], password=wml_credentials['password']))\n",
    "url = '{}/v3/identity/token'.format(wml_credentials['url'])\n",
    "response = requests.get(url, headers=headers)\n",
    "mltoken = json.loads(response.text).get('token')\n",
    "\n",
    "header = {'Content-Type': 'application/json', 'Authorization': 'Bearer ' + mltoken}\n",
    "\n",
    "# NOTE: manually define and pass the array(s) of values to be scored in the next line\n",
    "payload_scoring = {\"fields\": [\"sepal_length\", \"sepal_width\", \"petal_length\", \"petal_width\"], \"values\": [model_inputs]}\n",
    "\n",
    "response_scoring = requests.post('https://ibm-watson-ml.mybluemix.net/v3/wml_instances/c14274be-cfc7-464d-8d1d-71609743f8e6/published_models/7ee474c6-16bf-488d-a331-5c76c78255a2/deployments/b00a0781-055c-4802-a6da-10967075bc73/online', json=payload_scoring, headers=header)\n",
    "print(\"Scoring response\")\n",
    "result = json.loads(response_scoring.text)\n",
    "print(result)"
   ]
  },
  {
   "cell_type": "code",
   "execution_count": 7,
   "metadata": {},
   "outputs": [
    {
     "data": {
      "text/plain": [
       "dict_keys(['fields', 'values'])"
      ]
     },
     "execution_count": 7,
     "metadata": {},
     "output_type": "execute_result"
    }
   ],
   "source": [
    "result.keys() # dictionaries"
   ]
  },
  {
   "cell_type": "code",
   "execution_count": 10,
   "metadata": {},
   "outputs": [
    {
     "name": "stdout",
     "output_type": "stream",
     "text": [
      "Class Name : versicolor\n",
      "Probalitliy score : [0.9857142857142858, 0.014285714285714285, 0.0]\n"
     ]
    }
   ],
   "source": [
    "print('Class Name :',result['values'][0][-2])\n",
    "print('Probalitliy score :',result['values'][0][-4])"
   ]
  },
  {
   "cell_type": "code",
   "execution_count": null,
   "metadata": {},
   "outputs": [],
   "source": []
  }
 ],
 "metadata": {
  "kernelspec": {
   "display_name": "Python 3",
   "language": "python",
   "name": "python3"
  },
  "language_info": {
   "codemirror_mode": {
    "name": "ipython",
    "version": 3
   },
   "file_extension": ".py",
   "mimetype": "text/x-python",
   "name": "python",
   "nbconvert_exporter": "python",
   "pygments_lexer": "ipython3",
   "version": "3.6.4"
  }
 },
 "nbformat": 4,
 "nbformat_minor": 2
}

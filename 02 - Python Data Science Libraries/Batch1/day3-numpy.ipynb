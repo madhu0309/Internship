{
 "cells": [
  {
   "cell_type": "markdown",
   "metadata": {},
   "source": [
    "# NUMPY -> NUMerical PYthon"
   ]
  },
  {
   "cell_type": "code",
   "execution_count": 2,
   "metadata": {},
   "outputs": [],
   "source": [
    "import numpy as np"
   ]
  },
  {
   "cell_type": "markdown",
   "metadata": {},
   "source": [
    "# LIST into Array"
   ]
  },
  {
   "cell_type": "code",
   "execution_count": 3,
   "metadata": {},
   "outputs": [
    {
     "data": {
      "text/plain": [
       "array([1, 2, 3, 4, 5])"
      ]
     },
     "execution_count": 3,
     "metadata": {},
     "output_type": "execute_result"
    }
   ],
   "source": [
    "my_list = [1,2,3,4,5]\n",
    "#list to array\n",
    "arr = np.array(my_list) #SHIFT + TAB FOR SUGGESTIONS\n",
    "arr"
   ]
  },
  {
   "cell_type": "code",
   "execution_count": 4,
   "metadata": {},
   "outputs": [
    {
     "name": "stdout",
     "output_type": "stream",
     "text": [
      "addition of two numbers is : 5\n"
     ]
    }
   ],
   "source": [
    "a = 2\n",
    "b = 3\n",
    "c = a+b\n",
    "print('addition of two numbers is :', c)"
   ]
  },
  {
   "cell_type": "code",
   "execution_count": 5,
   "metadata": {},
   "outputs": [
    {
     "data": {
      "text/plain": [
       "5"
      ]
     },
     "execution_count": 5,
     "metadata": {},
     "output_type": "execute_result"
    }
   ],
   "source": [
    "d = np.add(a,b)\n",
    "d"
   ]
  },
  {
   "cell_type": "markdown",
   "metadata": {},
   "source": [
    "# Generators\n",
    "**Creat an array range from 0  to 100 with step of 1**"
   ]
  },
  {
   "cell_type": "code",
   "execution_count": 7,
   "metadata": {},
   "outputs": [
    {
     "data": {
      "text/plain": [
       "array([ 0,  1,  2,  3,  4,  5,  6,  7,  8,  9, 10, 11, 12, 13, 14, 15, 16,\n",
       "       17, 18, 19, 20, 21, 22, 23, 24, 25, 26, 27, 28, 29, 30, 31, 32, 33,\n",
       "       34, 35, 36, 37, 38, 39, 40, 41, 42, 43, 44, 45, 46, 47, 48, 49, 50,\n",
       "       51, 52, 53, 54, 55, 56, 57, 58, 59, 60, 61, 62, 63, 64, 65, 66, 67,\n",
       "       68, 69, 70, 71, 72, 73, 74, 75, 76, 77, 78, 79, 80, 81, 82, 83, 84,\n",
       "       85, 86, 87, 88, 89, 90, 91, 92, 93, 94, 95, 96, 97, 98, 99])"
      ]
     },
     "execution_count": 7,
     "metadata": {},
     "output_type": "execute_result"
    }
   ],
   "source": [
    "arr1 = np.arange(0,100,1)\n",
    "arr1"
   ]
  },
  {
   "cell_type": "markdown",
   "metadata": {},
   "source": [
    "**Create an array from 300 to 400 with step 5**"
   ]
  },
  {
   "cell_type": "code",
   "execution_count": 8,
   "metadata": {},
   "outputs": [
    {
     "data": {
      "text/plain": [
       "array([300, 305, 310, 315, 320, 325, 330, 335, 340, 345, 350, 355, 360,\n",
       "       365, 370, 375, 380, 385, 390, 395])"
      ]
     },
     "execution_count": 8,
     "metadata": {},
     "output_type": "execute_result"
    }
   ],
   "source": [
    "arr2 = np.arange(300,400,5)\n",
    "arr2"
   ]
  },
  {
   "cell_type": "markdown",
   "metadata": {},
   "source": [
    "**create an array from 400 to 300 with step 5**"
   ]
  },
  {
   "cell_type": "code",
   "execution_count": 11,
   "metadata": {},
   "outputs": [
    {
     "data": {
      "text/plain": [
       "array([400, 395, 390, 385, 380, 375, 370, 365, 360, 355, 350, 345, 340,\n",
       "       335, 330, 325, 320, 315, 310, 305])"
      ]
     },
     "execution_count": 11,
     "metadata": {},
     "output_type": "execute_result"
    }
   ],
   "source": [
    "arr3 = np.arange(400,300,-5)\n",
    "arr3"
   ]
  },
  {
   "cell_type": "markdown",
   "metadata": {},
   "source": [
    "**Create an array 100 to 200 with data type as float**"
   ]
  },
  {
   "cell_type": "code",
   "execution_count": 13,
   "metadata": {},
   "outputs": [
    {
     "data": {
      "text/plain": [
       "array([100., 101., 102., 103., 104., 105., 106., 107., 108., 109., 110.,\n",
       "       111., 112., 113., 114., 115., 116., 117., 118., 119., 120., 121.,\n",
       "       122., 123., 124., 125., 126., 127., 128., 129., 130., 131., 132.,\n",
       "       133., 134., 135., 136., 137., 138., 139., 140., 141., 142., 143.,\n",
       "       144., 145., 146., 147., 148., 149., 150., 151., 152., 153., 154.,\n",
       "       155., 156., 157., 158., 159., 160., 161., 162., 163., 164., 165.,\n",
       "       166., 167., 168., 169., 170., 171., 172., 173., 174., 175., 176.,\n",
       "       177., 178., 179., 180., 181., 182., 183., 184., 185., 186., 187.,\n",
       "       188., 189., 190., 191., 192., 193., 194., 195., 196., 197., 198.,\n",
       "       199.])"
      ]
     },
     "execution_count": 13,
     "metadata": {},
     "output_type": "execute_result"
    }
   ],
   "source": [
    "arr4 = np.arange(100,200,1,dtype = float)\n",
    "arr4"
   ]
  },
  {
   "cell_type": "markdown",
   "metadata": {},
   "source": [
    "**linspace**\n",
    "\n",
    "**Create an array 100 to 200 with data type as float**"
   ]
  },
  {
   "cell_type": "code",
   "execution_count": 19,
   "metadata": {},
   "outputs": [
    {
     "data": {
      "text/plain": [
       "array([100., 101., 102., 103., 104., 105., 106., 107., 108., 109., 110.,\n",
       "       111., 112., 113., 114., 115., 116., 117., 118., 119., 120., 121.,\n",
       "       122., 123., 124., 125., 126., 127., 128., 129., 130., 131., 132.,\n",
       "       133., 134., 135., 136., 137., 138., 139., 140., 141., 142., 143.,\n",
       "       144., 145., 146., 147., 148., 149., 150., 151., 152., 153., 154.,\n",
       "       155., 156., 157., 158., 159., 160., 161., 162., 163., 164., 165.,\n",
       "       166., 167., 168., 169., 170., 171., 172., 173., 174., 175., 176.,\n",
       "       177., 178., 179., 180., 181., 182., 183., 184., 185., 186., 187.,\n",
       "       188., 189., 190., 191., 192., 193., 194., 195., 196., 197., 198.,\n",
       "       199.])"
      ]
     },
     "execution_count": 19,
     "metadata": {},
     "output_type": "execute_result"
    }
   ],
   "source": [
    "arr5 = np.linspace(100,200,num=100,endpoint=False)\n",
    "arr5"
   ]
  },
  {
   "cell_type": "markdown",
   "metadata": {},
   "source": [
    "**Create an array 0 to 100 with data type as float , with 10 rows and 10 coloumns**"
   ]
  },
  {
   "cell_type": "code",
   "execution_count": 21,
   "metadata": {},
   "outputs": [
    {
     "data": {
      "text/plain": [
       "(100,)"
      ]
     },
     "execution_count": 21,
     "metadata": {},
     "output_type": "execute_result"
    }
   ],
   "source": [
    "arr5.shape"
   ]
  },
  {
   "cell_type": "code",
   "execution_count": 22,
   "metadata": {},
   "outputs": [
    {
     "data": {
      "text/plain": [
       "array([ 0.,  1.,  2.,  3.,  4.,  5.,  6.,  7.,  8.,  9., 10., 11., 12.,\n",
       "       13., 14., 15., 16., 17., 18., 19., 20., 21., 22., 23., 24., 25.,\n",
       "       26., 27., 28., 29., 30., 31., 32., 33., 34., 35., 36., 37., 38.,\n",
       "       39., 40., 41., 42., 43., 44., 45., 46., 47., 48., 49., 50., 51.,\n",
       "       52., 53., 54., 55., 56., 57., 58., 59., 60., 61., 62., 63., 64.,\n",
       "       65., 66., 67., 68., 69., 70., 71., 72., 73., 74., 75., 76., 77.,\n",
       "       78., 79., 80., 81., 82., 83., 84., 85., 86., 87., 88., 89., 90.,\n",
       "       91., 92., 93., 94., 95., 96., 97., 98., 99.])"
      ]
     },
     "execution_count": 22,
     "metadata": {},
     "output_type": "execute_result"
    }
   ],
   "source": [
    "arr6 = np.linspace(0,100,num=100,endpoint=False)\n",
    "arr6"
   ]
  },
  {
   "cell_type": "markdown",
   "metadata": {},
   "source": [
    "> row * coloumns = len(array)"
   ]
  },
  {
   "cell_type": "code",
   "execution_count": 23,
   "metadata": {},
   "outputs": [
    {
     "data": {
      "text/plain": [
       "array([[ 0.,  1.,  2.,  3.,  4.,  5.,  6.,  7.,  8.,  9.],\n",
       "       [10., 11., 12., 13., 14., 15., 16., 17., 18., 19.],\n",
       "       [20., 21., 22., 23., 24., 25., 26., 27., 28., 29.],\n",
       "       [30., 31., 32., 33., 34., 35., 36., 37., 38., 39.],\n",
       "       [40., 41., 42., 43., 44., 45., 46., 47., 48., 49.],\n",
       "       [50., 51., 52., 53., 54., 55., 56., 57., 58., 59.],\n",
       "       [60., 61., 62., 63., 64., 65., 66., 67., 68., 69.],\n",
       "       [70., 71., 72., 73., 74., 75., 76., 77., 78., 79.],\n",
       "       [80., 81., 82., 83., 84., 85., 86., 87., 88., 89.],\n",
       "       [90., 91., 92., 93., 94., 95., 96., 97., 98., 99.]])"
      ]
     },
     "execution_count": 23,
     "metadata": {},
     "output_type": "execute_result"
    }
   ],
   "source": [
    "arr7 = np.reshape(arr6,(10,10))\n",
    "arr7"
   ]
  },
  {
   "cell_type": "markdown",
   "metadata": {},
   "source": [
    "**Create an array 0 to 255 with data type as float , with 16 rows and 16 coloumns** \n",
    "\n",
    "arr8"
   ]
  },
  {
   "cell_type": "code",
   "execution_count": 26,
   "metadata": {},
   "outputs": [
    {
     "name": "stdout",
     "output_type": "stream",
     "text": [
      "shape of your array: (16, 16)\n",
      "[[  0.   1.   2.   3.   4.   5.   6.   7.   8.   9.  10.  11.  12.  13.\n",
      "   14.  15.]\n",
      " [ 16.  17.  18.  19.  20.  21.  22.  23.  24.  25.  26.  27.  28.  29.\n",
      "   30.  31.]\n",
      " [ 32.  33.  34.  35.  36.  37.  38.  39.  40.  41.  42.  43.  44.  45.\n",
      "   46.  47.]\n",
      " [ 48.  49.  50.  51.  52.  53.  54.  55.  56.  57.  58.  59.  60.  61.\n",
      "   62.  63.]\n",
      " [ 64.  65.  66.  67.  68.  69.  70.  71.  72.  73.  74.  75.  76.  77.\n",
      "   78.  79.]\n",
      " [ 80.  81.  82.  83.  84.  85.  86.  87.  88.  89.  90.  91.  92.  93.\n",
      "   94.  95.]\n",
      " [ 96.  97.  98.  99. 100. 101. 102. 103. 104. 105. 106. 107. 108. 109.\n",
      "  110. 111.]\n",
      " [112. 113. 114. 115. 116. 117. 118. 119. 120. 121. 122. 123. 124. 125.\n",
      "  126. 127.]\n",
      " [128. 129. 130. 131. 132. 133. 134. 135. 136. 137. 138. 139. 140. 141.\n",
      "  142. 143.]\n",
      " [144. 145. 146. 147. 148. 149. 150. 151. 152. 153. 154. 155. 156. 157.\n",
      "  158. 159.]\n",
      " [160. 161. 162. 163. 164. 165. 166. 167. 168. 169. 170. 171. 172. 173.\n",
      "  174. 175.]\n",
      " [176. 177. 178. 179. 180. 181. 182. 183. 184. 185. 186. 187. 188. 189.\n",
      "  190. 191.]\n",
      " [192. 193. 194. 195. 196. 197. 198. 199. 200. 201. 202. 203. 204. 205.\n",
      "  206. 207.]\n",
      " [208. 209. 210. 211. 212. 213. 214. 215. 216. 217. 218. 219. 220. 221.\n",
      "  222. 223.]\n",
      " [224. 225. 226. 227. 228. 229. 230. 231. 232. 233. 234. 235. 236. 237.\n",
      "  238. 239.]\n",
      " [240. 241. 242. 243. 244. 245. 246. 247. 248. 249. 250. 251. 252. 253.\n",
      "  254. 255.]]\n"
     ]
    }
   ],
   "source": [
    "arr8 = np.arange(0,256,1,dtype = float)\n",
    "arr8 = np.reshape(arr8,(16,16))\n",
    "print('shape of your array:', arr8.shape)\n",
    "print(arr8)"
   ]
  },
  {
   "cell_type": "markdown",
   "metadata": {},
   "source": [
    "**arr8 ____ 16 rows and 10 coloumns** "
   ]
  },
  {
   "cell_type": "code",
   "execution_count": 29,
   "metadata": {},
   "outputs": [
    {
     "data": {
      "text/plain": [
       "array([[  0.,   1.,   2.,   3.,   4.,   5.,   6.,   7.,   8.,   9.],\n",
       "       [ 10.,  11.,  12.,  13.,  14.,  15.,  16.,  17.,  18.,  19.],\n",
       "       [ 20.,  21.,  22.,  23.,  24.,  25.,  26.,  27.,  28.,  29.],\n",
       "       [ 30.,  31.,  32.,  33.,  34.,  35.,  36.,  37.,  38.,  39.],\n",
       "       [ 40.,  41.,  42.,  43.,  44.,  45.,  46.,  47.,  48.,  49.],\n",
       "       [ 50.,  51.,  52.,  53.,  54.,  55.,  56.,  57.,  58.,  59.],\n",
       "       [ 60.,  61.,  62.,  63.,  64.,  65.,  66.,  67.,  68.,  69.],\n",
       "       [ 70.,  71.,  72.,  73.,  74.,  75.,  76.,  77.,  78.,  79.],\n",
       "       [ 80.,  81.,  82.,  83.,  84.,  85.,  86.,  87.,  88.,  89.],\n",
       "       [ 90.,  91.,  92.,  93.,  94.,  95.,  96.,  97.,  98.,  99.],\n",
       "       [100., 101., 102., 103., 104., 105., 106., 107., 108., 109.],\n",
       "       [110., 111., 112., 113., 114., 115., 116., 117., 118., 119.],\n",
       "       [120., 121., 122., 123., 124., 125., 126., 127., 128., 129.],\n",
       "       [130., 131., 132., 133., 134., 135., 136., 137., 138., 139.],\n",
       "       [140., 141., 142., 143., 144., 145., 146., 147., 148., 149.],\n",
       "       [150., 151., 152., 153., 154., 155., 156., 157., 158., 159.]])"
      ]
     },
     "execution_count": 29,
     "metadata": {},
     "output_type": "execute_result"
    }
   ],
   "source": [
    "arr9 = np.resize(arr8,(16,10))\n",
    "arr9"
   ]
  },
  {
   "cell_type": "markdown",
   "metadata": {},
   "source": [
    "# data visualisation"
   ]
  },
  {
   "cell_type": "code",
   "execution_count": 30,
   "metadata": {},
   "outputs": [],
   "source": [
    "import matplotlib.pyplot as plt\n",
    "%matplotlib inline"
   ]
  },
  {
   "cell_type": "code",
   "execution_count": 35,
   "metadata": {},
   "outputs": [
    {
     "data": {
      "text/plain": [
       "<matplotlib.image.AxesImage at 0x10cd9acc0>"
      ]
     },
     "execution_count": 35,
     "metadata": {},
     "output_type": "execute_result"
    },
    {
     "data": {
      "image/png": "[encoded data removed]",
      "text/plain": [
       "<matplotlib.figure.Figure at 0x10cd61ac8>"
      ]
     },
     "metadata": {},
     "output_type": "display_data"
    }
   ],
   "source": [
    "plt.imshow(arr8, cmap = 'gray')"
   ]
  },
  {
   "cell_type": "code",
   "execution_count": 36,
   "metadata": {},
   "outputs": [
    {
     "data": {
      "text/plain": [
       "array([[ 0.,  1.,  2.,  3.,  4.,  5.,  6.,  7.,  8.,  9.],\n",
       "       [10., 11., 12., 13., 14., 15., 16., 17., 18., 19.],\n",
       "       [20., 21., 22., 23., 24., 25., 26., 27., 28., 29.],\n",
       "       [30., 31., 32., 33., 34., 35., 36., 37., 38., 39.],\n",
       "       [40., 41., 42., 43., 44., 45., 46., 47., 48., 49.],\n",
       "       [50., 51., 52., 53., 54., 55., 56., 57., 58., 59.],\n",
       "       [60., 61., 62., 63., 64., 65., 66., 67., 68., 69.],\n",
       "       [70., 71., 72., 73., 74., 75., 76., 77., 78., 79.],\n",
       "       [80., 81., 82., 83., 84., 85., 86., 87., 88., 89.],\n",
       "       [90., 91., 92., 93., 94., 95., 96., 97., 98., 99.]])"
      ]
     },
     "execution_count": 36,
     "metadata": {},
     "output_type": "execute_result"
    }
   ],
   "source": [
    "arr7"
   ]
  },
  {
   "cell_type": "markdown",
   "metadata": {},
   "source": [
    "# indexing"
   ]
  },
  {
   "cell_type": "code",
   "execution_count": 41,
   "metadata": {},
   "outputs": [
    {
     "data": {
      "text/plain": [
       "array([[ 0.,  1.,  2.,  3.,  4.,  5.,  6.,  7.,  8.,  9.],\n",
       "       [10., 11., 12., 13., 14., 15., 16., 17., 18., 19.]])"
      ]
     },
     "execution_count": 41,
     "metadata": {},
     "output_type": "execute_result"
    }
   ],
   "source": [
    "arr7[0:2]"
   ]
  },
  {
   "cell_type": "code",
   "execution_count": 40,
   "metadata": {},
   "outputs": [
    {
     "data": {
      "text/plain": [
       "(1, 10)"
      ]
     },
     "execution_count": 40,
     "metadata": {},
     "output_type": "execute_result"
    }
   ],
   "source": [
    "arr7[0:1].shape\n"
   ]
  },
  {
   "cell_type": "code",
   "execution_count": 44,
   "metadata": {},
   "outputs": [
    {
     "data": {
      "text/plain": [
       "array([[50., 51., 52., 53., 54., 55., 56., 57., 58., 59.]])"
      ]
     },
     "execution_count": 44,
     "metadata": {},
     "output_type": "execute_result"
    }
   ],
   "source": [
    "arr7[5:6]"
   ]
  },
  {
   "cell_type": "code",
   "execution_count": 47,
   "metadata": {},
   "outputs": [
    {
     "data": {
      "text/plain": [
       "array([[ 0.],\n",
       "       [10.],\n",
       "       [20.],\n",
       "       [30.],\n",
       "       [40.],\n",
       "       [50.],\n",
       "       [60.],\n",
       "       [70.],\n",
       "       [80.],\n",
       "       [90.]])"
      ]
     },
     "execution_count": 47,
     "metadata": {},
     "output_type": "execute_result"
    }
   ],
   "source": [
    "# row , col\n",
    "arr7[:,0:1]"
   ]
  },
  {
   "cell_type": "markdown",
   "metadata": {},
   "source": [
    "# creating random numbers\n",
    "100 x 100 -> 0 -256"
   ]
  },
  {
   "cell_type": "code",
   "execution_count": 58,
   "metadata": {},
   "outputs": [
    {
     "data": {
      "text/plain": [
       "array([[ 53, 180, 141, 106,  82, 234, 163, 119, 152, 116],\n",
       "       [ 42, 194, 241,  77, 181, 125,  88, 160, 254,  46],\n",
       "       [181, 165,   4, 101,  93,  82, 248, 152, 241, 213],\n",
       "       [244,  88, 189,  63, 206,  13, 165, 237,  17, 200],\n",
       "       [131,  32, 156,  74, 172, 226,  66, 245,  78,  60],\n",
       "       [124,  75, 239, 199, 236, 143, 225,  78, 143, 152],\n",
       "       [ 87,  70, 119,  12, 127, 153, 195,  99, 123,  85],\n",
       "       [159,   1,  41,  54,  78, 217, 105, 179, 219, 122],\n",
       "       [222, 118, 142, 147, 248,  42, 167, 185, 102,  56],\n",
       "       [ 30, 245, 165, 154, 211,  90,  79,  13, 183,   6]])"
      ]
     },
     "execution_count": 58,
     "metadata": {},
     "output_type": "execute_result"
    }
   ],
   "source": [
    "arr10 = np.random.randint(0,256,(10,10))\n",
    "arr10"
   ]
  },
  {
   "cell_type": "code",
   "execution_count": 59,
   "metadata": {},
   "outputs": [
    {
     "data": {
      "text/plain": [
       "(254, 1)"
      ]
     },
     "execution_count": 59,
     "metadata": {},
     "output_type": "execute_result"
    }
   ],
   "source": [
    "arr10.max(), arr10.min()"
   ]
  },
  {
   "cell_type": "code",
   "execution_count": 60,
   "metadata": {},
   "outputs": [
    {
     "data": {
      "text/plain": [
       "<matplotlib.image.AxesImage at 0x10d0ba940>"
      ]
     },
     "execution_count": 60,
     "metadata": {},
     "output_type": "execute_result"
    },
    {
     "data": {
      "image/png": "[encoded data removed]",
      "text/plain": [
       "<matplotlib.figure.Figure at 0x10d077e48>"
      ]
     },
     "metadata": {},
     "output_type": "display_data"
    }
   ],
   "source": [
    "plt.imshow(arr10,cmap ='gray')"
   ]
  },
  {
   "cell_type": "markdown",
   "metadata": {},
   "source": [
    "# Find the values in an arr10 greater than 127"
   ]
  },
  {
   "cell_type": "code",
   "execution_count": 64,
   "metadata": {},
   "outputs": [
    {
     "data": {
      "text/plain": [
       "array([180, 141, 234, 163, 152, 194, 241, 181, 160, 254, 181, 165, 248,\n",
       "       152, 241, 213, 244, 189, 206, 165, 237, 200, 131, 156, 172, 226,\n",
       "       245, 239, 199, 236, 143, 225, 143, 152, 153, 195, 159, 217, 179,\n",
       "       219, 222, 142, 147, 248, 167, 185, 245, 165, 154, 211, 183])"
      ]
     },
     "execution_count": 64,
     "metadata": {},
     "output_type": "execute_result"
    }
   ],
   "source": [
    "cond = arr10 > 127\n",
    "arr10[cond] # pass condition in array 10"
   ]
  },
  {
   "cell_type": "markdown",
   "metadata": {},
   "source": [
    "# Find the values in an arr10 less than 127"
   ]
  },
  {
   "cell_type": "code",
   "execution_count": 65,
   "metadata": {},
   "outputs": [
    {
     "data": {
      "text/plain": [
       "array([ 53, 106,  82, 119, 116,  42,  77, 125,  88,  46,   4, 101,  93,\n",
       "        82,  88,  63,  13,  17,  32,  74,  66,  78,  60, 124,  75,  78,\n",
       "        87,  70, 119,  12,  99, 123,  85,   1,  41,  54,  78, 105, 122,\n",
       "       118,  42, 102,  56,  30,  90,  79,  13,   6])"
      ]
     },
     "execution_count": 65,
     "metadata": {},
     "output_type": "execute_result"
    }
   ],
   "source": [
    "cond = arr10 < 127\n",
    "arr10[cond] # pass condition in array 10"
   ]
  },
  {
   "cell_type": "markdown",
   "metadata": {},
   "source": [
    "# Replace the values greater than 127 with 150"
   ]
  },
  {
   "cell_type": "code",
   "execution_count": 66,
   "metadata": {},
   "outputs": [
    {
     "data": {
      "text/plain": [
       "array([[ 53, 150, 150, 106,  82, 150, 150, 119, 150, 116],\n",
       "       [ 42, 150, 150,  77, 150, 125,  88, 150, 150,  46],\n",
       "       [150, 150,   4, 101,  93,  82, 150, 150, 150, 150],\n",
       "       [150,  88, 150,  63, 150,  13, 150, 150,  17, 150],\n",
       "       [150,  32, 150,  74, 150, 150,  66, 150,  78,  60],\n",
       "       [124,  75, 150, 150, 150, 150, 150,  78, 150, 150],\n",
       "       [ 87,  70, 119,  12, 127, 150, 150,  99, 123,  85],\n",
       "       [150,   1,  41,  54,  78, 150, 105, 150, 150, 122],\n",
       "       [150, 118, 150, 150, 150,  42, 150, 150, 102,  56],\n",
       "       [ 30, 150, 150, 150, 150,  90,  79,  13, 150,   6]])"
      ]
     },
     "execution_count": 66,
     "metadata": {},
     "output_type": "execute_result"
    }
   ],
   "source": [
    "cond = arr10 > 127\n",
    "arr10[cond] = 150\n",
    "arr10"
   ]
  },
  {
   "cell_type": "code",
   "execution_count": null,
   "metadata": {},
   "outputs": [],
   "source": []
  },
  {
   "cell_type": "code",
   "execution_count": null,
   "metadata": {},
   "outputs": [],
   "source": []
  },
  {
   "cell_type": "code",
   "execution_count": null,
   "metadata": {},
   "outputs": [],
   "source": []
  }
 ],
 "metadata": {
  "kernelspec": {
   "display_name": "Python 3",
   "language": "python",
   "name": "python3"
  },
  "language_info": {
   "codemirror_mode": {
    "name": "ipython",
    "version": 3
   },
   "file_extension": ".py",
   "mimetype": "text/x-python",
   "name": "python",
   "nbconvert_exporter": "python",
   "pygments_lexer": "ipython3",
   "version": "3.6.4"
  }
 },
 "nbformat": 4,
 "nbformat_minor": 2
}

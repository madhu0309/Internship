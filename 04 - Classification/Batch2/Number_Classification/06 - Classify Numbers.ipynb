{
 "cells": [
  {
   "cell_type": "markdown",
   "metadata": {},
   "source": [
    "** Step -1: Import Libraries**"
   ]
  },
  {
   "cell_type": "code",
   "execution_count": 1,
   "metadata": {},
   "outputs": [],
   "source": [
    "import numpy as np\n",
    "import pandas as pd\n",
    "import matplotlib.pyplot as plt\n",
    "%matplotlib inline"
   ]
  },
  {
   "cell_type": "markdown",
   "metadata": {},
   "source": [
    "**Step -2 : Load Dataset **"
   ]
  },
  {
   "cell_type": "code",
   "execution_count": 32,
   "metadata": {},
   "outputs": [
    {
     "name": "stdout",
     "output_type": "stream",
     "text": [
      "dict_keys(['data', 'target', 'target_names', 'images', 'DESCR'])\n"
     ]
    }
   ],
   "source": [
    "digits = load_digits()\n",
    "print(digits.keys())"
   ]
  },
  {
   "cell_type": "code",
   "execution_count": 33,
   "metadata": {},
   "outputs": [
    {
     "name": "stdout",
     "output_type": "stream",
     "text": [
      "Optical Recognition of Handwritten Digits Data Set\n",
      "===================================================\n",
      "\n",
      "Notes\n",
      "-----\n",
      "Data Set Characteristics:\n",
      "    :Number of Instances: 5620\n",
      "    :Number of Attributes: 64\n",
      "    :Attribute Information: 8x8 image of integer pixels in the range 0..16.\n",
      "    :Missing Attribute Values: None\n",
      "    :Creator: E. Alpaydin (alpaydin '@' boun.edu.tr)\n",
      "    :Date: July; 1998\n",
      "\n",
      "This is a copy of the test set of the UCI ML hand-written digits datasets\n",
      "http://archive.ics.uci.edu/ml/datasets/Optical+Recognition+of+Handwritten+Digits\n",
      "\n",
      "The data set contains images of hand-written digits: 10 classes where\n",
      "each class refers to a digit.\n",
      "\n",
      "Preprocessing programs made available by NIST were used to extract\n",
      "normalized bitmaps of handwritten digits from a preprinted form. From a\n",
      "total of 43 people, 30 contributed to the training set and different 13\n",
      "to the test set. 32x32 bitmaps are divided into nonoverlapping blocks of\n",
      "4x4 and the number of on pixels are counted in each block. This generates\n",
      "an input matrix of 8x8 where each element is an integer in the range\n",
      "0..16. This reduces dimensionality and gives invariance to small\n",
      "distortions.\n",
      "\n",
      "For info on NIST preprocessing routines, see M. D. Garris, J. L. Blue, G.\n",
      "T. Candela, D. L. Dimmick, J. Geist, P. J. Grother, S. A. Janet, and C.\n",
      "L. Wilson, NIST Form-Based Handprint Recognition System, NISTIR 5469,\n",
      "1994.\n",
      "\n",
      "References\n",
      "----------\n",
      "  - C. Kaynak (1995) Methods of Combining Multiple Classifiers and Their\n",
      "    Applications to Handwritten Digit Recognition, MSc Thesis, Institute of\n",
      "    Graduate Studies in Science and Engineering, Bogazici University.\n",
      "  - E. Alpaydin, C. Kaynak (1998) Cascading Classifiers, Kybernetika.\n",
      "  - Ken Tang and Ponnuthurai N. Suganthan and Xi Yao and A. Kai Qin.\n",
      "    Linear dimensionalityreduction using relevance weighted LDA. School of\n",
      "    Electrical and Electronic Engineering Nanyang Technological University.\n",
      "    2005.\n",
      "  - Claudio Gentile. A New Approximate Maximal Margin Classification\n",
      "    Algorithm. NIPS. 2000.\n",
      "\n"
     ]
    }
   ],
   "source": [
    "print(digits.DESCR)"
   ]
  },
  {
   "cell_type": "markdown",
   "metadata": {},
   "source": [
    "** Extracting data**"
   ]
  },
  {
   "cell_type": "code",
   "execution_count": 48,
   "metadata": {},
   "outputs": [],
   "source": [
    "X = digits.data # independent variable\n",
    "y = digits.target # dependent variable"
   ]
  },
  {
   "cell_type": "code",
   "execution_count": 49,
   "metadata": {},
   "outputs": [
    {
     "data": {
      "text/plain": [
       "((1797, 64), (1797,))"
      ]
     },
     "execution_count": 49,
     "metadata": {},
     "output_type": "execute_result"
    }
   ],
   "source": [
    "X.shape , y.shape"
   ]
  },
  {
   "cell_type": "code",
   "execution_count": 53,
   "metadata": {},
   "outputs": [],
   "source": [
    "# Normalization [0 - 1] -> threshold \n",
    "X[X>7]  = X.max() # if greater than 7 replace that with max value\n",
    "X[X<=7] = X.min() # if less than 7 replace that with min value"
   ]
  },
  {
   "cell_type": "code",
   "execution_count": 55,
   "metadata": {},
   "outputs": [
    {
     "name": "stdout",
     "output_type": "stream",
     "text": [
      "[0]\n"
     ]
    },
    {
     "data": {
      "text/plain": [
       "<matplotlib.image.AxesImage at 0xe66d1619b0>"
      ]
     },
     "execution_count": 55,
     "metadata": {},
     "output_type": "execute_result"
    },
    {
     "data": {
      "image/png": "[encoded data removed]",
      "text/plain": [
       "<matplotlib.figure.Figure at 0xe66d09d5c0>"
      ]
     },
     "metadata": {},
     "output_type": "display_data"
    }
   ],
   "source": [
    "img1 = X[0:1]\n",
    "print(y[0:1])\n",
    "plt.imshow(img1.reshape((8,8)),cmap = 'gray')"
   ]
  },
  {
   "cell_type": "markdown",
   "metadata": {},
   "source": [
    "** Step -3: Standard Scaling **"
   ]
  },
  {
   "cell_type": "code",
   "execution_count": 56,
   "metadata": {},
   "outputs": [],
   "source": [
    "X = X / X.max()"
   ]
  },
  {
   "cell_type": "code",
   "execution_count": 58,
   "metadata": {},
   "outputs": [
    {
     "data": {
      "text/plain": [
       "((1797, 64), 1.0)"
      ]
     },
     "execution_count": 58,
     "metadata": {},
     "output_type": "execute_result"
    }
   ],
   "source": [
    "X.shape, X.max()"
   ]
  },
  {
   "cell_type": "markdown",
   "metadata": {},
   "source": [
    "**Step - 5 : Splitting data into testing and training**"
   ]
  },
  {
   "cell_type": "code",
   "execution_count": 59,
   "metadata": {},
   "outputs": [],
   "source": [
    "from sklearn.cross_validation import train_test_split"
   ]
  },
  {
   "cell_type": "code",
   "execution_count": 60,
   "metadata": {},
   "outputs": [],
   "source": [
    "x_train, x_test, y_train, y_test = train_test_split(X,y, test_size = 0.20,\n",
    "                                                   random_state = 0)"
   ]
  },
  {
   "cell_type": "code",
   "execution_count": 61,
   "metadata": {},
   "outputs": [
    {
     "data": {
      "text/plain": [
       "((1437, 64), (360, 64), (1437,), (360,))"
      ]
     },
     "execution_count": 61,
     "metadata": {},
     "output_type": "execute_result"
    }
   ],
   "source": [
    "x_train.shape , x_test.shape, y_train.shape, y_test.shape"
   ]
  },
  {
   "cell_type": "markdown",
   "metadata": {},
   "source": [
    "**Step -6 : Bulding a Machine Learning Classifier**"
   ]
  },
  {
   "cell_type": "code",
   "execution_count": 62,
   "metadata": {},
   "outputs": [],
   "source": [
    "from sklearn.linear_model import LogisticRegression\n",
    "from sklearn.neighbors import KNeighborsClassifier\n",
    "from sklearn.svm import SVC\n",
    "from sklearn.tree import DecisionTreeClassifier\n",
    "from sklearn.ensemble import RandomForestClassifier"
   ]
  },
  {
   "cell_type": "code",
   "execution_count": 63,
   "metadata": {},
   "outputs": [],
   "source": [
    "model_log = LogisticRegression(C = 10.0)\n",
    "model_knn = KNeighborsClassifier(n_neighbors=3)\n",
    "model_svm = SVC(C=10.0, kernel='rbf')\n",
    "model_dt = DecisionTreeClassifier()\n",
    "model_rf = RandomForestClassifier(n_estimators=100)"
   ]
  },
  {
   "cell_type": "code",
   "execution_count": 64,
   "metadata": {},
   "outputs": [
    {
     "data": {
      "text/plain": [
       "RandomForestClassifier(bootstrap=True, class_weight=None, criterion='gini',\n",
       "            max_depth=None, max_features='auto', max_leaf_nodes=None,\n",
       "            min_impurity_decrease=0.0, min_impurity_split=None,\n",
       "            min_samples_leaf=1, min_samples_split=2,\n",
       "            min_weight_fraction_leaf=0.0, n_estimators=100, n_jobs=1,\n",
       "            oob_score=False, random_state=None, verbose=0,\n",
       "            warm_start=False)"
      ]
     },
     "execution_count": 64,
     "metadata": {},
     "output_type": "execute_result"
    }
   ],
   "source": [
    "model_log.fit(x_train, y_train) # Logistic regression\n",
    "model_knn.fit(x_train, y_train) # KNearest Neighbour\n",
    "model_svm.fit(x_train, y_train) # Support vector machine\n",
    "model_dt.fit(x_train, y_train) # Desicion Tree\n",
    "model_rf.fit(x_train, y_train) # Random Forest"
   ]
  },
  {
   "cell_type": "markdown",
   "metadata": {},
   "source": [
    "**Step-7: Evaluation ** "
   ]
  },
  {
   "cell_type": "code",
   "execution_count": 66,
   "metadata": {},
   "outputs": [],
   "source": [
    "y_pred_log = model_log.predict(x_test) # for evalutating model\n",
    "y_pred_knn = model_knn.predict(x_test) # for evalutating model\n",
    "y_pred_svm = model_svm.predict(x_test) # for evalutating model\n",
    "y_pred_dt = model_dt.predict(x_test) # for evalutating model\n",
    "y_pred_rf = model_rf.predict(x_test) # for evalutating model\n"
   ]
  },
  {
   "cell_type": "markdown",
   "metadata": {},
   "source": [
    "**Classification Report**"
   ]
  },
  {
   "cell_type": "code",
   "execution_count": 68,
   "metadata": {},
   "outputs": [],
   "source": [
    "from sklearn.metrics import confusion_matrix , classification_report"
   ]
  },
  {
   "cell_type": "code",
   "execution_count": 69,
   "metadata": {},
   "outputs": [],
   "source": [
    "cm_log = confusion_matrix(y_test, y_pred_log) # confusion matrix \n",
    "cm_knn = confusion_matrix(y_test, y_pred_knn) # confusion matrix \n",
    "cm_svm = confusion_matrix(y_test, y_pred_svm) # confusion matrix \n",
    "cm_dt = confusion_matrix(y_test, y_pred_dt) # confusion matrix \n",
    "cm_rf = confusion_matrix(y_test, y_pred_rf) # confusion matrix \n",
    "\n",
    "# Classification report\n",
    "cr_log = classification_report(y_test, y_pred_log)\n",
    "cr_knn = classification_report(y_test, y_pred_knn)\n",
    "cr_svm = classification_report(y_test, y_pred_svm)\n",
    "cr_dt = classification_report(y_test, y_pred_dt)\n",
    "cr_rf = classification_report(y_test, y_pred_rf)"
   ]
  },
  {
   "cell_type": "code",
   "execution_count": 70,
   "metadata": {},
   "outputs": [],
   "source": [
    "import seaborn as sns"
   ]
  },
  {
   "cell_type": "code",
   "execution_count": 72,
   "metadata": {},
   "outputs": [
    {
     "data": {
      "image/png": "[encoded data removed]",
      "text/plain": [
       "<matplotlib.figure.Figure at 0xe671712630>"
      ]
     },
     "metadata": {},
     "output_type": "display_data"
    },
    {
     "data": {
      "image/png": "[encoded data removed]",
      "text/plain": [
       "<matplotlib.figure.Figure at 0xe671814048>"
      ]
     },
     "metadata": {},
     "output_type": "display_data"
    },
    {
     "data": {
      "image/png": "[encoded data removed]",
      "text/plain": [
       "<matplotlib.figure.Figure at 0xe6718fa630>"
      ]
     },
     "metadata": {},
     "output_type": "display_data"
    },
    {
     "data": {
      "image/png": "[encoded data removed]",
      "text/plain": [
       "<matplotlib.figure.Figure at 0xe6719298d0>"
      ]
     },
     "metadata": {},
     "output_type": "display_data"
    },
    {
     "data": {
      "image/png": "[encoded data removed]",
      "text/plain": [
       "<matplotlib.figure.Figure at 0xe671adc9e8>"
      ]
     },
     "metadata": {},
     "output_type": "display_data"
    }
   ],
   "source": [
    "sns.heatmap(cm_log ,annot=True, cbar=False,cmap = 'summer')\n",
    "plt.title('Logistic Regression')\n",
    "plt.show()\n",
    "sns.heatmap(cm_knn ,annot=True, cbar=False,cmap = 'winter')\n",
    "plt.title('K Nearest Neighbour')\n",
    "plt.show()\n",
    "sns.heatmap(cm_svm ,annot=True, cbar=False,cmap = 'spring')\n",
    "plt.title('Support Vector Machine')\n",
    "plt.show()\n",
    "sns.heatmap(cm_dt ,annot=True, cbar=False,cmap = 'cool')\n",
    "plt.title('Desicion Tree')\n",
    "plt.show()\n",
    "sns.heatmap(cm_rf ,annot=True, cbar=False,cmap = 'autumn')\n",
    "plt.title('Random Forest')\n",
    "plt.show()"
   ]
  },
  {
   "cell_type": "code",
   "execution_count": 78,
   "metadata": {},
   "outputs": [
    {
     "name": "stdout",
     "output_type": "stream",
     "text": [
      "====================Logistic Regression====================\n",
      "             precision    recall  f1-score   support\n",
      "\n",
      "          0       1.00      1.00      1.00        27\n",
      "          1       0.86      0.86      0.86        35\n",
      "          2       0.94      0.94      0.94        36\n",
      "          3       0.93      0.90      0.91        29\n",
      "          4       0.82      0.93      0.87        30\n",
      "          5       0.92      0.90      0.91        40\n",
      "          6       0.96      0.98      0.97        44\n",
      "          7       0.97      0.95      0.96        39\n",
      "          8       0.91      0.77      0.83        39\n",
      "          9       0.84      0.93      0.88        41\n",
      "\n",
      "avg / total       0.92      0.91      0.91       360\n",
      "\n",
      "====================KNearest Neighbour====================\n",
      "             precision    recall  f1-score   support\n",
      "\n",
      "          0       0.96      1.00      0.98        27\n",
      "          1       0.75      0.94      0.84        35\n",
      "          2       1.00      1.00      1.00        36\n",
      "          3       0.90      0.93      0.92        29\n",
      "          4       0.97      0.93      0.95        30\n",
      "          5       0.93      0.93      0.93        40\n",
      "          6       0.96      1.00      0.98        44\n",
      "          7       0.97      1.00      0.99        39\n",
      "          8       0.96      0.69      0.81        39\n",
      "          9       0.92      0.88      0.90        41\n",
      "\n",
      "avg / total       0.93      0.93      0.93       360\n",
      "\n",
      "====================Suport Vector Machine====================\n",
      "             precision    recall  f1-score   support\n",
      "\n",
      "          0       1.00      1.00      1.00        27\n",
      "          1       0.86      0.91      0.89        35\n",
      "          2       0.95      0.97      0.96        36\n",
      "          3       0.93      0.97      0.95        29\n",
      "          4       0.91      0.97      0.94        30\n",
      "          5       0.95      0.93      0.94        40\n",
      "          6       0.98      0.98      0.98        44\n",
      "          7       0.97      0.97      0.97        39\n",
      "          8       0.97      0.77      0.86        39\n",
      "          9       0.91      0.98      0.94        41\n",
      "\n",
      "avg / total       0.94      0.94      0.94       360\n",
      "\n",
      "====================Descion Tree====================\n",
      "             precision    recall  f1-score   support\n",
      "\n",
      "          0       0.89      0.89      0.89        27\n",
      "          1       0.72      0.83      0.77        35\n",
      "          2       0.77      0.67      0.72        36\n",
      "          3       0.74      0.86      0.79        29\n",
      "          4       0.96      0.87      0.91        30\n",
      "          5       0.97      0.80      0.88        40\n",
      "          6       0.93      0.93      0.93        44\n",
      "          7       0.82      0.85      0.84        39\n",
      "          8       0.74      0.74      0.74        39\n",
      "          9       0.76      0.83      0.79        41\n",
      "\n",
      "avg / total       0.83      0.82      0.83       360\n",
      "\n",
      "====================Random Forest====================\n",
      "             precision    recall  f1-score   support\n",
      "\n",
      "          0       1.00      1.00      1.00        27\n",
      "          1       0.89      0.97      0.93        35\n",
      "          2       1.00      1.00      1.00        36\n",
      "          3       1.00      1.00      1.00        29\n",
      "          4       0.94      0.97      0.95        30\n",
      "          5       0.95      0.90      0.92        40\n",
      "          6       0.98      1.00      0.99        44\n",
      "          7       0.97      1.00      0.99        39\n",
      "          8       1.00      0.82      0.90        39\n",
      "          9       0.91      0.98      0.94        41\n",
      "\n",
      "avg / total       0.96      0.96      0.96       360\n",
      "\n"
     ]
    }
   ],
   "source": [
    "print('='*20+'Logistic Regression'+'='*20)\n",
    "print(cr_log)\n",
    "print('='*20+'KNearest Neighbour'+'='*20)\n",
    "print(cr_knn)\n",
    "print('='*20+'Suport Vector Machine'+'='*20)\n",
    "print(cr_svm)\n",
    "print('='*20+'Descion Tree'+'='*20)\n",
    "print(cr_dt)\n",
    "print('='*20+'Random Forest'+'='*20)\n",
    "print(cr_rf)"
   ]
  },
  {
   "cell_type": "markdown",
   "metadata": {},
   "source": [
    "# Saving model "
   ]
  },
  {
   "cell_type": "code",
   "execution_count": 79,
   "metadata": {},
   "outputs": [],
   "source": [
    "from sklearn.externals import joblib"
   ]
  },
  {
   "cell_type": "code",
   "execution_count": 80,
   "metadata": {},
   "outputs": [
    {
     "data": {
      "text/plain": [
       "['number_rf.pkl']"
      ]
     },
     "execution_count": 80,
     "metadata": {},
     "output_type": "execute_result"
    }
   ],
   "source": [
    "joblib.dump(model_log,'number_log.pkl')\n",
    "joblib.dump(model_knn,'number_knn.pkl')\n",
    "joblib.dump(model_svm,'number_svm.pkl')\n",
    "joblib.dump(model_dt,'number_dt.pkl')\n",
    "joblib.dump(model_rf,'number_rf.pkl')"
   ]
  },
  {
   "cell_type": "code",
   "execution_count": 82,
   "metadata": {},
   "outputs": [],
   "source": [
    "classify = joblib.load('number_rf.pkl') # Loading model"
   ]
  },
  {
   "cell_type": "markdown",
   "metadata": {},
   "source": [
    "** Testing my model **"
   ]
  },
  {
   "cell_type": "code",
   "execution_count": 83,
   "metadata": {},
   "outputs": [],
   "source": [
    "import cv2"
   ]
  },
  {
   "cell_type": "code",
   "execution_count": 99,
   "metadata": {},
   "outputs": [
    {
     "data": {
      "image/png": "[encoded data removed]",
      "text/plain": [
       "<matplotlib.figure.Figure at 0xe671bc81d0>"
      ]
     },
     "metadata": {},
     "output_type": "display_data"
    }
   ],
   "source": [
    "# step -1\n",
    "img = cv2.imread('number2.jpg',0) # Load image and convert that into gray scale\n",
    "# step -2 : Thresholding \n",
    "ret , thresh = cv2.threshold(img, 127,255,cv2.THRESH_BINARY_INV)\n",
    "# step -3: Resize image\n",
    "img_re = cv2.resize(thresh,(8,8)) # resizing into 8 x 8 image\n",
    "# step - 4: Reshape image\n",
    "test = img_re.reshape((1,64)) # this is new test data that need to pass to model\n",
    "# step - 5: Normalization\n",
    "test = test / test.max()\n",
    "plt.imshow(test, cmap ='gray')\n",
    "plt.show()"
   ]
  },
  {
   "cell_type": "code",
   "execution_count": 102,
   "metadata": {},
   "outputs": [
    {
     "name": "stdout",
     "output_type": "stream",
     "text": [
      "Logistic Regression: [2]\n",
      "KNearest Neighbour: [2]\n",
      "Support Vector Machine: [2]\n",
      "Desicion Tree: [2]\n",
      "Random Forest [2]\n"
     ]
    }
   ],
   "source": [
    "print('Logistic Regression:',model_log.predict(test))\n",
    "print('KNearest Neighbour:',model_knn.predict(test))\n",
    "print('Support Vector Machine:',model_svm.predict(test))\n",
    "print('Desicion Tree:',model_dt.predict(test))\n",
    "print('Random Forest',model_rf.predict(test))\n"
   ]
  },
  {
   "cell_type": "code",
   "execution_count": null,
   "metadata": {},
   "outputs": [],
   "source": [
    "# Video"
   ]
  },
  {
   "cell_type": "code",
   "execution_count": 104,
   "metadata": {},
   "outputs": [],
   "source": [
    "cap = cv2.VideoCapture(0)\n",
    "\n",
    "while True:\n",
    "    _,img = cap.read()\n",
    "    gray = cv2.cvtColor(img,cv2.COLOR_BGR2GRAY)\n",
    "    blur = cv2.GaussianBlur(gray, (7,7),3)\n",
    "    _,th3 = cv2.threshold(gray,100,255,cv2.THRESH_BINARY_INV)\n",
    "    #th3 = cv2.adaptiveThreshold(blur,255,cv2.ADAPTIVE_THRESH_GAUSSIAN_C,cv2.THRESH_BINARY_INV,21,7)\n",
    "    im2, contours, hierarchy = cv2.findContours(th3,cv2.RETR_TREE,cv2.CHAIN_APPROX_SIMPLE)\n",
    "    areas = [cv2.contourArea(c) for c in contours]\n",
    "    ix = np.where(np.array(areas) > 300)[0]\n",
    "    result = np.array([1,0,0,0,0,0,0,0,0,0])\n",
    "    for i in ix:\n",
    "        cnt = contours[i]\n",
    "        xr,yr,wr,hr = cv2.boundingRect(cnt)\n",
    "        if xr< 20 :\n",
    "            xr = 25\n",
    "\n",
    "\n",
    "        if yr < 20:\n",
    "            yr = 25\n",
    "\n",
    "\n",
    "        cv2.rectangle(img,(xr-10,yr-10),(xr+wr+10,yr+hr+10), (0,255,0),2)\n",
    "        roi = th3[yr-20:yr+hr+20, xr-20:xr+wr+20]\n",
    "        \n",
    "        roi_re=cv2.resize(roi,(8,8))\n",
    "        g = roi_re.reshape(1,64).astype('float32')\n",
    "        g = g/255\n",
    "        \n",
    "        \n",
    "        result=  model_rf.predict(g)\n",
    "        #print(result)\n",
    "        font = cv2.FONT_HERSHEY_SIMPLEX\n",
    "        cv2.putText(img,'Number: '+str(result),(xr-10,yr-10), font, 0.4, (255,0,0), 1, cv2.LINE_AA)\n",
    "\n",
    "\n",
    "    cv2.imshow('Threshold',th3)\n",
    "    cv2.imshow('orginal',img)\n",
    "\n",
    "    if cv2.waitKey(41) & 0xff == ord('q'):\n",
    "        break\n",
    "        \n",
    "    \n",
    "    \n",
    "cap.release()    \n",
    "cv2.destroyAllWindows()"
   ]
  },
  {
   "cell_type": "code",
   "execution_count": null,
   "metadata": {},
   "outputs": [],
   "source": [
    "q to close "
   ]
  }
 ],
 "metadata": {
  "kernelspec": {
   "display_name": "Python 3",
   "language": "python",
   "name": "python3"
  },
  "language_info": {
   "codemirror_mode": {
    "name": "ipython",
    "version": 3
   },
   "file_extension": ".py",
   "mimetype": "text/x-python",
   "name": "python",
   "nbconvert_exporter": "python",
   "pygments_lexer": "ipython3",
   "version": "3.6.4"
  }
 },
 "nbformat": 4,
 "nbformat_minor": 2
}

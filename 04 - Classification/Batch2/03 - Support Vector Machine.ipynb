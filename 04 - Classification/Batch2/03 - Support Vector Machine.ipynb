{
 "cells": [
  {
   "cell_type": "markdown",
   "metadata": {},
   "source": [
    "** Step -1: Import Libraries**"
   ]
  },
  {
   "cell_type": "code",
   "execution_count": 59,
   "metadata": {},
   "outputs": [],
   "source": [
    "import numpy as np\n",
    "import pandas as pd\n",
    "import matplotlib.pyplot as plt\n",
    "%matplotlib inline"
   ]
  },
  {
   "cell_type": "markdown",
   "metadata": {},
   "source": [
    "**Step -2 : Load Dataset **"
   ]
  },
  {
   "cell_type": "code",
   "execution_count": 2,
   "metadata": {},
   "outputs": [
    {
     "data": {
      "text/html": [
       "<div>\n",
       "<style scoped>\n",
       "    .dataframe tbody tr th:only-of-type {\n",
       "        vertical-align: middle;\n",
       "    }\n",
       "\n",
       "    .dataframe tbody tr th {\n",
       "        vertical-align: top;\n",
       "    }\n",
       "\n",
       "    .dataframe thead th {\n",
       "        text-align: right;\n",
       "    }\n",
       "</style>\n",
       "<table border=\"1\" class=\"dataframe\">\n",
       "  <thead>\n",
       "    <tr style=\"text-align: right;\">\n",
       "      <th></th>\n",
       "      <th>sepal_length</th>\n",
       "      <th>sepal_width</th>\n",
       "      <th>petal_length</th>\n",
       "      <th>petal_width</th>\n",
       "      <th>species</th>\n",
       "    </tr>\n",
       "  </thead>\n",
       "  <tbody>\n",
       "    <tr>\n",
       "      <th>0</th>\n",
       "      <td>5.1</td>\n",
       "      <td>3.5</td>\n",
       "      <td>1.4</td>\n",
       "      <td>0.2</td>\n",
       "      <td>setosa</td>\n",
       "    </tr>\n",
       "    <tr>\n",
       "      <th>1</th>\n",
       "      <td>4.9</td>\n",
       "      <td>3.0</td>\n",
       "      <td>1.4</td>\n",
       "      <td>0.2</td>\n",
       "      <td>setosa</td>\n",
       "    </tr>\n",
       "    <tr>\n",
       "      <th>2</th>\n",
       "      <td>4.7</td>\n",
       "      <td>3.2</td>\n",
       "      <td>1.3</td>\n",
       "      <td>0.2</td>\n",
       "      <td>setosa</td>\n",
       "    </tr>\n",
       "    <tr>\n",
       "      <th>3</th>\n",
       "      <td>4.6</td>\n",
       "      <td>3.1</td>\n",
       "      <td>1.5</td>\n",
       "      <td>0.2</td>\n",
       "      <td>setosa</td>\n",
       "    </tr>\n",
       "    <tr>\n",
       "      <th>4</th>\n",
       "      <td>5.0</td>\n",
       "      <td>3.6</td>\n",
       "      <td>1.4</td>\n",
       "      <td>0.2</td>\n",
       "      <td>setosa</td>\n",
       "    </tr>\n",
       "  </tbody>\n",
       "</table>\n",
       "</div>"
      ],
      "text/plain": [
       "   sepal_length  sepal_width  petal_length  petal_width species\n",
       "0           5.1          3.5           1.4          0.2  setosa\n",
       "1           4.9          3.0           1.4          0.2  setosa\n",
       "2           4.7          3.2           1.3          0.2  setosa\n",
       "3           4.6          3.1           1.5          0.2  setosa\n",
       "4           5.0          3.6           1.4          0.2  setosa"
      ]
     },
     "execution_count": 2,
     "metadata": {},
     "output_type": "execute_result"
    }
   ],
   "source": [
    "dataset = pd.read_csv('iris.csv')\n",
    "dataset.head()"
   ]
  },
  {
   "cell_type": "code",
   "execution_count": 3,
   "metadata": {},
   "outputs": [
    {
     "name": "stdout",
     "output_type": "stream",
     "text": [
      "<class 'pandas.core.frame.DataFrame'>\n",
      "RangeIndex: 150 entries, 0 to 149\n",
      "Data columns (total 5 columns):\n",
      "sepal_length    150 non-null float64\n",
      "sepal_width     150 non-null float64\n",
      "petal_length    150 non-null float64\n",
      "petal_width     150 non-null float64\n",
      "species         150 non-null object\n",
      "dtypes: float64(4), object(1)\n",
      "memory usage: 5.9+ KB\n"
     ]
    }
   ],
   "source": [
    "dataset.info()"
   ]
  },
  {
   "cell_type": "markdown",
   "metadata": {},
   "source": [
    "**Step -3: Data Preprocessing**\n",
    "\n",
    "| Types                 |     Remedy                   |\n",
    "|----------------------:|:----------------------------:|\n",
    "|Idenfity Missing values| Remove the missing or replace|\n",
    "|Categorial Data        |  Convert it into numbers     |"
   ]
  },
  {
   "cell_type": "markdown",
   "metadata": {},
   "source": [
    "** If you find cateogrial data remove or replace it with central tendency **\n",
    "\n",
    "dataset.dropna(axis = 0)\n",
    "\n",
    "dataset.fillna(fill = dataset[''].mean()"
   ]
  },
  {
   "cell_type": "markdown",
   "metadata": {},
   "source": [
    "** Convert dataframe into array**"
   ]
  },
  {
   "cell_type": "code",
   "execution_count": 4,
   "metadata": {},
   "outputs": [],
   "source": [
    "X = dataset.iloc[:,[0,2]].values # independent variable\n",
    "y = dataset.iloc[:,-1].values # dependent variable"
   ]
  },
  {
   "cell_type": "markdown",
   "metadata": {},
   "source": [
    "**Categorial Data**"
   ]
  },
  {
   "cell_type": "code",
   "execution_count": 5,
   "metadata": {},
   "outputs": [],
   "source": [
    "from sklearn.preprocessing import LabelEncoder\n",
    "# Warning Don't apply this to independent variables\n",
    "# if you want to apply also use OneHotEncoding -> it will create dummies\n",
    "# In dependent variable we should not create dummies (Machine Learning)"
   ]
  },
  {
   "cell_type": "code",
   "execution_count": 6,
   "metadata": {},
   "outputs": [],
   "source": [
    "label = LabelEncoder()"
   ]
  },
  {
   "cell_type": "markdown",
   "metadata": {},
   "source": [
    "about LabelEncode\n",
    "\n",
    "- fit -> check for categorical data\n",
    "- transform -> replace the categorical data with values (numerics)"
   ]
  },
  {
   "cell_type": "code",
   "execution_count": 7,
   "metadata": {},
   "outputs": [
    {
     "data": {
      "text/plain": [
       "array([0, 0, 0, 0, 0, 0, 0, 0, 0, 0, 0, 0, 0, 0, 0, 0, 0, 0, 0, 0, 0, 0,\n",
       "       0, 0, 0, 0, 0, 0, 0, 0, 0, 0, 0, 0, 0, 0, 0, 0, 0, 0, 0, 0, 0, 0,\n",
       "       0, 0, 0, 0, 0, 0, 1, 1, 1, 1, 1, 1, 1, 1, 1, 1, 1, 1, 1, 1, 1, 1,\n",
       "       1, 1, 1, 1, 1, 1, 1, 1, 1, 1, 1, 1, 1, 1, 1, 1, 1, 1, 1, 1, 1, 1,\n",
       "       1, 1, 1, 1, 1, 1, 1, 1, 1, 1, 1, 1, 2, 2, 2, 2, 2, 2, 2, 2, 2, 2,\n",
       "       2, 2, 2, 2, 2, 2, 2, 2, 2, 2, 2, 2, 2, 2, 2, 2, 2, 2, 2, 2, 2, 2,\n",
       "       2, 2, 2, 2, 2, 2, 2, 2, 2, 2, 2, 2, 2, 2, 2, 2, 2, 2], dtype=int64)"
      ]
     },
     "execution_count": 7,
     "metadata": {},
     "output_type": "execute_result"
    }
   ],
   "source": [
    "y = label.fit_transform(y)\n",
    "y"
   ]
  },
  {
   "cell_type": "markdown",
   "metadata": {},
   "source": [
    "**Step - 4: Visualize  data if possible (if possible)**"
   ]
  },
  {
   "cell_type": "code",
   "execution_count": 8,
   "metadata": {},
   "outputs": [
    {
     "data": {
      "image/png": "[encoded data removed]",
      "text/plain": [
       "<matplotlib.figure.Figure at 0x84144e47b8>"
      ]
     },
     "metadata": {},
     "output_type": "display_data"
    }
   ],
   "source": [
    "plt.style.use('fivethirtyeight')\n",
    "plt.figure(figsize=(10,6))\n",
    "\n",
    "X_set, y_set = X, y\n",
    "X1, X2 = np.meshgrid(np.arange(start = X_set[:, 0].min() - 1, stop = X_set[:, 0].max() + 1, step = 0.01),\n",
    "                     np.arange(start = X_set[:, 1].min() - 1, stop = X_set[:, 1].max() + 1, step = 0.01))\n",
    "\n",
    "plt.xlim(X1.min(), X1.max())\n",
    "plt.ylim(X2.min(), X2.max())\n",
    "\n",
    "for i in range(len(y_set)):\n",
    "    if y_set[i] == 0:\n",
    "        c = 'red'\n",
    "    elif y_set[i] == 1:\n",
    "        c = 'green'\n",
    "        \n",
    "    else:\n",
    "        c = 'blue'\n",
    "        \n",
    "    plt.scatter(X_set[i,0], X_set[i,1],color = c)\n",
    "    \n",
    "\n",
    "plt.title('SVM (Training set)')\n",
    "plt.xlabel('Sepal Length')\n",
    "plt.ylabel('Petal Length')\n",
    "#plt.legend()\n",
    "plt.show()"
   ]
  },
  {
   "cell_type": "markdown",
   "metadata": {},
   "source": [
    "** Step -3: Standard Scaling **"
   ]
  },
  {
   "cell_type": "code",
   "execution_count": 9,
   "metadata": {},
   "outputs": [],
   "source": [
    "from sklearn.preprocessing import StandardScaler\n",
    "sc = StandardScaler()"
   ]
  },
  {
   "cell_type": "code",
   "execution_count": 10,
   "metadata": {},
   "outputs": [
    {
     "data": {
      "text/plain": [
       "array([[-0.90068117, -1.3412724 ],\n",
       "       [-1.14301691, -1.3412724 ],\n",
       "       [-1.38535265, -1.39813811],\n",
       "       [-1.50652052, -1.2844067 ],\n",
       "       [-1.02184904, -1.3412724 ],\n",
       "       [-0.53717756, -1.17067529],\n",
       "       [-1.50652052, -1.3412724 ],\n",
       "       [-1.02184904, -1.2844067 ],\n",
       "       [-1.74885626, -1.3412724 ],\n",
       "       [-1.14301691, -1.2844067 ],\n",
       "       [-0.53717756, -1.2844067 ],\n",
       "       [-1.26418478, -1.227541  ],\n",
       "       [-1.26418478, -1.3412724 ],\n",
       "       [-1.87002413, -1.51186952],\n",
       "       [-0.05250608, -1.45500381],\n",
       "       [-0.17367395, -1.2844067 ],\n",
       "       [-0.53717756, -1.39813811],\n",
       "       [-0.90068117, -1.3412724 ],\n",
       "       [-0.17367395, -1.17067529],\n",
       "       [-0.90068117, -1.2844067 ],\n",
       "       [-0.53717756, -1.17067529],\n",
       "       [-0.90068117, -1.2844067 ],\n",
       "       [-1.50652052, -1.56873522],\n",
       "       [-0.90068117, -1.17067529],\n",
       "       [-1.26418478, -1.05694388],\n",
       "       [-1.02184904, -1.227541  ],\n",
       "       [-1.02184904, -1.227541  ],\n",
       "       [-0.7795133 , -1.2844067 ],\n",
       "       [-0.7795133 , -1.3412724 ],\n",
       "       [-1.38535265, -1.227541  ],\n",
       "       [-1.26418478, -1.227541  ],\n",
       "       [-0.53717756, -1.2844067 ],\n",
       "       [-0.7795133 , -1.2844067 ],\n",
       "       [-0.41600969, -1.3412724 ],\n",
       "       [-1.14301691, -1.2844067 ],\n",
       "       [-1.02184904, -1.45500381],\n",
       "       [-0.41600969, -1.39813811],\n",
       "       [-1.14301691, -1.2844067 ],\n",
       "       [-1.74885626, -1.39813811],\n",
       "       [-0.90068117, -1.2844067 ],\n",
       "       [-1.02184904, -1.39813811],\n",
       "       [-1.62768839, -1.39813811],\n",
       "       [-1.74885626, -1.39813811],\n",
       "       [-1.02184904, -1.227541  ],\n",
       "       [-0.90068117, -1.05694388],\n",
       "       [-1.26418478, -1.3412724 ],\n",
       "       [-0.90068117, -1.227541  ],\n",
       "       [-1.50652052, -1.3412724 ],\n",
       "       [-0.65834543, -1.2844067 ],\n",
       "       [-1.02184904, -1.3412724 ],\n",
       "       [ 1.40150837,  0.53529583],\n",
       "       [ 0.67450115,  0.42156442],\n",
       "       [ 1.2803405 ,  0.64902723],\n",
       "       [-0.41600969,  0.1372359 ],\n",
       "       [ 0.79566902,  0.47843012],\n",
       "       [-0.17367395,  0.42156442],\n",
       "       [ 0.55333328,  0.53529583],\n",
       "       [-1.14301691, -0.26082403],\n",
       "       [ 0.91683689,  0.47843012],\n",
       "       [-0.7795133 ,  0.08037019],\n",
       "       [-1.02184904, -0.14709262],\n",
       "       [ 0.06866179,  0.25096731],\n",
       "       [ 0.18982966,  0.1372359 ],\n",
       "       [ 0.31099753,  0.53529583],\n",
       "       [-0.29484182, -0.09022692],\n",
       "       [ 1.03800476,  0.36469871],\n",
       "       [-0.29484182,  0.42156442],\n",
       "       [-0.05250608,  0.1941016 ],\n",
       "       [ 0.4321654 ,  0.42156442],\n",
       "       [-0.29484182,  0.08037019],\n",
       "       [ 0.06866179,  0.59216153],\n",
       "       [ 0.31099753,  0.1372359 ],\n",
       "       [ 0.55333328,  0.64902723],\n",
       "       [ 0.31099753,  0.53529583],\n",
       "       [ 0.67450115,  0.30783301],\n",
       "       [ 0.91683689,  0.36469871],\n",
       "       [ 1.15917263,  0.59216153],\n",
       "       [ 1.03800476,  0.70589294],\n",
       "       [ 0.18982966,  0.42156442],\n",
       "       [-0.17367395, -0.14709262],\n",
       "       [-0.41600969,  0.02350449],\n",
       "       [-0.41600969, -0.03336121],\n",
       "       [-0.05250608,  0.08037019],\n",
       "       [ 0.18982966,  0.76275864],\n",
       "       [-0.53717756,  0.42156442],\n",
       "       [ 0.18982966,  0.42156442],\n",
       "       [ 1.03800476,  0.53529583],\n",
       "       [ 0.55333328,  0.36469871],\n",
       "       [-0.29484182,  0.1941016 ],\n",
       "       [-0.41600969,  0.1372359 ],\n",
       "       [-0.41600969,  0.36469871],\n",
       "       [ 0.31099753,  0.47843012],\n",
       "       [-0.05250608,  0.1372359 ],\n",
       "       [-1.02184904, -0.26082403],\n",
       "       [-0.29484182,  0.25096731],\n",
       "       [-0.17367395,  0.25096731],\n",
       "       [-0.17367395,  0.25096731],\n",
       "       [ 0.4321654 ,  0.30783301],\n",
       "       [-0.90068117, -0.43142114],\n",
       "       [-0.17367395,  0.1941016 ],\n",
       "       [ 0.55333328,  1.27454998],\n",
       "       [-0.05250608,  0.76275864],\n",
       "       [ 1.52267624,  1.21768427],\n",
       "       [ 0.55333328,  1.04708716],\n",
       "       [ 0.79566902,  1.16081857],\n",
       "       [ 2.12851559,  1.6157442 ],\n",
       "       [-1.14301691,  0.42156442],\n",
       "       [ 1.76501198,  1.44514709],\n",
       "       [ 1.03800476,  1.16081857],\n",
       "       [ 1.64384411,  1.33141568],\n",
       "       [ 0.79566902,  0.76275864],\n",
       "       [ 0.67450115,  0.87649005],\n",
       "       [ 1.15917263,  0.99022146],\n",
       "       [-0.17367395,  0.70589294],\n",
       "       [-0.05250608,  0.76275864],\n",
       "       [ 0.67450115,  0.87649005],\n",
       "       [ 0.79566902,  0.99022146],\n",
       "       [ 2.24968346,  1.67260991],\n",
       "       [ 2.24968346,  1.78634131],\n",
       "       [ 0.18982966,  0.70589294],\n",
       "       [ 1.2803405 ,  1.10395287],\n",
       "       [-0.29484182,  0.64902723],\n",
       "       [ 2.24968346,  1.67260991],\n",
       "       [ 0.55333328,  0.64902723],\n",
       "       [ 1.03800476,  1.10395287],\n",
       "       [ 1.64384411,  1.27454998],\n",
       "       [ 0.4321654 ,  0.59216153],\n",
       "       [ 0.31099753,  0.64902723],\n",
       "       [ 0.67450115,  1.04708716],\n",
       "       [ 1.64384411,  1.16081857],\n",
       "       [ 1.88617985,  1.33141568],\n",
       "       [ 2.4920192 ,  1.50201279],\n",
       "       [ 0.67450115,  1.04708716],\n",
       "       [ 0.55333328,  0.76275864],\n",
       "       [ 0.31099753,  1.04708716],\n",
       "       [ 2.24968346,  1.33141568],\n",
       "       [ 0.55333328,  1.04708716],\n",
       "       [ 0.67450115,  0.99022146],\n",
       "       [ 0.18982966,  0.59216153],\n",
       "       [ 1.2803405 ,  0.93335575],\n",
       "       [ 1.03800476,  1.04708716],\n",
       "       [ 1.2803405 ,  0.76275864],\n",
       "       [-0.05250608,  0.76275864],\n",
       "       [ 1.15917263,  1.21768427],\n",
       "       [ 1.03800476,  1.10395287],\n",
       "       [ 1.03800476,  0.81962435],\n",
       "       [ 0.55333328,  0.70589294],\n",
       "       [ 0.79566902,  0.81962435],\n",
       "       [ 0.4321654 ,  0.93335575],\n",
       "       [ 0.06866179,  0.76275864]])"
      ]
     },
     "execution_count": 10,
     "metadata": {},
     "output_type": "execute_result"
    }
   ],
   "source": [
    "X_new = sc.fit_transform(X)\n",
    "X_new"
   ]
  },
  {
   "cell_type": "markdown",
   "metadata": {},
   "source": [
    "**Step - 5 : Splitting data into testing and training**"
   ]
  },
  {
   "cell_type": "code",
   "execution_count": 11,
   "metadata": {},
   "outputs": [
    {
     "name": "stderr",
     "output_type": "stream",
     "text": [
      "C:\\Users\\srikanth\\Anaconda\\lib\\site-packages\\sklearn\\cross_validation.py:41: DeprecationWarning: This module was deprecated in version 0.18 in favor of the model_selection module into which all the refactored classes and functions are moved. Also note that the interface of the new CV iterators are different from that of this module. This module will be removed in 0.20.\n",
      "  \"This module will be removed in 0.20.\", DeprecationWarning)\n"
     ]
    }
   ],
   "source": [
    "from sklearn.cross_validation import train_test_split"
   ]
  },
  {
   "cell_type": "code",
   "execution_count": 35,
   "metadata": {},
   "outputs": [],
   "source": [
    "x_train, x_test, y_train, y_test = train_test_split(X,y, test_size = 0.10,\n",
    "                                                   random_state = 0)"
   ]
  },
  {
   "cell_type": "code",
   "execution_count": 36,
   "metadata": {},
   "outputs": [
    {
     "data": {
      "text/plain": [
       "((135, 2), (15, 2), (135,), (15,))"
      ]
     },
     "execution_count": 36,
     "metadata": {},
     "output_type": "execute_result"
    }
   ],
   "source": [
    "x_train.shape , x_test.shape, y_train.shape, y_test.shape"
   ]
  },
  {
   "cell_type": "markdown",
   "metadata": {},
   "source": [
    "**Step -6 : Bulding a Machine Learning Classifier**"
   ]
  },
  {
   "cell_type": "code",
   "execution_count": 37,
   "metadata": {},
   "outputs": [],
   "source": [
    "from sklearn.svm import SVC"
   ]
  },
  {
   "cell_type": "code",
   "execution_count": 48,
   "metadata": {},
   "outputs": [],
   "source": [
    "model = SVC(C = 10.0 , kernel='rbf', probability=True)"
   ]
  },
  {
   "cell_type": "code",
   "execution_count": 49,
   "metadata": {},
   "outputs": [
    {
     "data": {
      "text/plain": [
       "SVC(C=10.0, cache_size=200, class_weight=None, coef0=0.0,\n",
       "  decision_function_shape='ovr', degree=3, gamma='auto', kernel='rbf',\n",
       "  max_iter=-1, probability=True, random_state=None, shrinking=True,\n",
       "  tol=0.001, verbose=False)"
      ]
     },
     "execution_count": 49,
     "metadata": {},
     "output_type": "execute_result"
    }
   ],
   "source": [
    "model.fit(x_train, y_train) # traning model"
   ]
  },
  {
   "cell_type": "markdown",
   "metadata": {},
   "source": [
    "**Step-7: Evaluation ** "
   ]
  },
  {
   "cell_type": "code",
   "execution_count": 50,
   "metadata": {},
   "outputs": [],
   "source": [
    "y_pred = model.predict(x_test) # for evalutating model\n",
    "y_prob = model.predict_proba(x_test) # probabiltiy score"
   ]
  },
  {
   "cell_type": "markdown",
   "metadata": {},
   "source": [
    "**Classification Report**"
   ]
  },
  {
   "cell_type": "code",
   "execution_count": 51,
   "metadata": {},
   "outputs": [],
   "source": [
    "from sklearn.metrics import confusion_matrix , classification_report"
   ]
  },
  {
   "cell_type": "code",
   "execution_count": 52,
   "metadata": {},
   "outputs": [],
   "source": [
    "cm = confusion_matrix(y_test, y_pred) # confusion matrix \n",
    "cr = classification_report(y_test, y_pred) # classification report "
   ]
  },
  {
   "cell_type": "code",
   "execution_count": 53,
   "metadata": {},
   "outputs": [],
   "source": [
    "import seaborn as sns"
   ]
  },
  {
   "cell_type": "code",
   "execution_count": 54,
   "metadata": {},
   "outputs": [
    {
     "data": {
      "image/png": "[encoded data removed]",
      "text/plain": [
       "<matplotlib.figure.Figure at 0x84157ce588>"
      ]
     },
     "metadata": {},
     "output_type": "display_data"
    }
   ],
   "source": [
    "sns.heatmap(cm ,annot=True, cbar=False,\n",
    "            xticklabels=['Setosa','Versicolor','Virginaca'],\n",
    "           yticklabels=['Setosa','Versicolor','Virginaca'], cmap = 'summer')\n",
    "plt.show()"
   ]
  },
  {
   "cell_type": "code",
   "execution_count": 55,
   "metadata": {},
   "outputs": [
    {
     "name": "stdout",
     "output_type": "stream",
     "text": [
      "             precision    recall  f1-score   support\n",
      "\n",
      "          0       1.00      1.00      1.00         3\n",
      "          1       1.00      1.00      1.00         8\n",
      "          2       1.00      1.00      1.00         4\n",
      "\n",
      "avg / total       1.00      1.00      1.00        15\n",
      "\n"
     ]
    }
   ],
   "source": [
    "print(cr)"
   ]
  },
  {
   "cell_type": "code",
   "execution_count": 56,
   "metadata": {},
   "outputs": [],
   "source": [
    "from matplotlib.colors import ListedColormap"
   ]
  },
  {
   "cell_type": "code",
   "execution_count": 58,
   "metadata": {},
   "outputs": [
    {
     "data": {
      "image/png": "[encoded data removed]",
      "text/plain": [
       "<matplotlib.figure.Figure at 0x8415b1d828>"
      ]
     },
     "metadata": {},
     "output_type": "display_data"
    }
   ],
   "source": [
    "plt.figure(figsize=(10,6))\n",
    "plt.style.use('fivethirtyeight')\n",
    "X_set, y_set = x_train, y_train\n",
    "X1, X2 = np.meshgrid(np.arange(start = X_set[:, 0].min() - 1, stop = X_set[:, 0].max() + 1, step = 0.01),\n",
    "                     np.arange(start = X_set[:, 1].min() - 1, stop = X_set[:, 1].max() + 1, step = 0.01))\n",
    "\n",
    "\n",
    "plt.contourf(X1, X2, model.predict(np.array([X1.ravel(), X2.ravel()]).T).reshape(X1.shape),\n",
    "             alpha = 0.1, cmap = ListedColormap(('red', 'green','blue')))\n",
    "plt.xlim(X1.min(), X1.max())\n",
    "plt.ylim(X2.min(), X2.max())\n",
    "\n",
    "for i in range(len(y_set)):\n",
    "    if y_set[i] == 0:\n",
    "        c = 'red'\n",
    "    elif y_set[i] == 1:\n",
    "        c = 'green'\n",
    "        \n",
    "    else:\n",
    "        c = 'blue'\n",
    "        \n",
    "    plt.scatter(X_set[i,0], X_set[i,1],color = c)\n",
    "    \n",
    "\n",
    "plt.title('Support Vector Machine (Training set)')\n",
    "plt.xlabel('Sepal Length')\n",
    "plt.ylabel('Petal Length')\n",
    "#plt.legend()\n",
    "plt.show()"
   ]
  },
  {
   "cell_type": "code",
   "execution_count": null,
   "metadata": {},
   "outputs": [],
   "source": []
  },
  {
   "cell_type": "code",
   "execution_count": null,
   "metadata": {},
   "outputs": [],
   "source": []
  }
 ],
 "metadata": {
  "kernelspec": {
   "display_name": "Python 3",
   "language": "python",
   "name": "python3"
  },
  "language_info": {
   "codemirror_mode": {
    "name": "ipython",
    "version": 3
   },
   "file_extension": ".py",
   "mimetype": "text/x-python",
   "name": "python",
   "nbconvert_exporter": "python",
   "pygments_lexer": "ipython3",
   "version": "3.6.4"
  }
 },
 "nbformat": 4,
 "nbformat_minor": 2
}

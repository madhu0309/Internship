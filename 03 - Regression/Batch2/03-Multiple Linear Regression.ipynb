{
 "cells": [
  {
   "cell_type": "markdown",
   "metadata": {},
   "source": [
    "### Multivariate Regression\n",
    "\n",
    "In most of the real life use cases there will be more than one independent variable, so the concept of having multiple independent variables is called as multivariate regression. The equation take the below form.\n",
    "\n",
    "$y = m_1 x_1 + m_2 x_2 + m_3 x_3 + . . .+ m_n x_n$\n",
    "Where, each independent variable is represented by x’s, and m’s are the corresponding coefficients.\n"
   ]
  },
  {
   "cell_type": "markdown",
   "metadata": {},
   "source": [
    "## Housing data\n",
    "\n",
    "We'll be using the housing data from the Rdatasets from https://vincentarelbundock.github.io/Rdatasets/\n",
    "\n",
    "The housing data contains sales prices of houses in the city of Windsor. Below is the brief description about each variables.\n",
    "- price: sale price of a house\n",
    "- lotsize: the lot size of a property in square feet\n",
    "- bedrooms: number of bedrooms\n",
    "- bathrms: number of full bathrooms\n",
    "- stories: number of stories excluding basement\n",
    "- driveway: does the house has a driveway ?\n",
    "- recroom: does the house has a recreational room ?\n",
    "- fullbase: does the house has a full finished basement ?\n",
    "- gashw: does the house uses gas for hot water heating ?\n",
    "- airco: does the house has central air conditioning ?\n",
    "- garagepl: number of garage places\n",
    "- prefarea: is the house located in the preferred neighbourhood of the city ?"
   ]
  },
  {
   "cell_type": "code",
   "execution_count": null,
   "metadata": {},
   "outputs": [],
   "source": []
  },
  {
   "cell_type": "code",
   "execution_count": null,
   "metadata": {},
   "outputs": [],
   "source": []
  },
  {
   "cell_type": "code",
   "execution_count": null,
   "metadata": {},
   "outputs": [],
   "source": []
  },
  {
   "cell_type": "code",
   "execution_count": null,
   "metadata": {},
   "outputs": [],
   "source": []
  },
  {
   "cell_type": "code",
   "execution_count": null,
   "metadata": {},
   "outputs": [],
   "source": []
  },
  {
   "cell_type": "code",
   "execution_count": null,
   "metadata": {},
   "outputs": [],
   "source": []
  }
 ],
 "metadata": {
  "kernelspec": {
   "display_name": "Python 3",
   "language": "python",
   "name": "python3"
  },
  "language_info": {
   "codemirror_mode": {
    "name": "ipython",
    "version": 3
   },
   "file_extension": ".py",
   "mimetype": "text/x-python",
   "name": "python",
   "nbconvert_exporter": "python",
   "pygments_lexer": "ipython3",
   "version": "3.6.4"
  }
 },
 "nbformat": 4,
 "nbformat_minor": 2
}

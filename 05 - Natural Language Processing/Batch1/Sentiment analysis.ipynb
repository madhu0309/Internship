{
 "cells": [
  {
   "cell_type": "markdown",
   "metadata": {},
   "source": [
    "# Natural Language Processing"
   ]
  },
  {
   "cell_type": "code",
   "execution_count": 6,
   "metadata": {},
   "outputs": [],
   "source": [
    "import numpy as np\n",
    "import pandas as pd\n",
    "import nltk # natural langurage tool kit\n",
    "import re # regualr expressions\n",
    "from nltk.corpus import stopwords"
   ]
  },
  {
   "cell_type": "code",
   "execution_count": 27,
   "metadata": {},
   "outputs": [],
   "source": [
    "from nltk.stem import PorterStemmer"
   ]
  },
  {
   "cell_type": "code",
   "execution_count": 14,
   "metadata": {},
   "outputs": [],
   "source": [
    "stop = stopwords.words('english')\n",
    "stop.remove('not') # in sentiment analyis this not stop word\n",
    "stop.append('srikanth') # you customize stopwords like this"
   ]
  },
  {
   "cell_type": "markdown",
   "metadata": {},
   "source": [
    "**Step -1 : Load Dataset**"
   ]
  },
  {
   "cell_type": "code",
   "execution_count": 3,
   "metadata": {},
   "outputs": [],
   "source": [
    "dataset = pd.read_csv('review.tsv',delimiter='\\t',encoding='latin-1')"
   ]
  },
  {
   "cell_type": "code",
   "execution_count": 4,
   "metadata": {},
   "outputs": [
    {
     "data": {
      "text/html": [
       "<div>\n",
       "<style scoped>\n",
       "    .dataframe tbody tr th:only-of-type {\n",
       "        vertical-align: middle;\n",
       "    }\n",
       "\n",
       "    .dataframe tbody tr th {\n",
       "        vertical-align: top;\n",
       "    }\n",
       "\n",
       "    .dataframe thead th {\n",
       "        text-align: right;\n",
       "    }\n",
       "</style>\n",
       "<table border=\"1\" class=\"dataframe\">\n",
       "  <thead>\n",
       "    <tr style=\"text-align: right;\">\n",
       "      <th></th>\n",
       "      <th>Review</th>\n",
       "      <th>Liked</th>\n",
       "    </tr>\n",
       "  </thead>\n",
       "  <tbody>\n",
       "    <tr>\n",
       "      <th>0</th>\n",
       "      <td>Wow... Loved this place.</td>\n",
       "      <td>1</td>\n",
       "    </tr>\n",
       "    <tr>\n",
       "      <th>1</th>\n",
       "      <td>Crust is not good.</td>\n",
       "      <td>0</td>\n",
       "    </tr>\n",
       "    <tr>\n",
       "      <th>2</th>\n",
       "      <td>Not tasty and the texture was just nasty.</td>\n",
       "      <td>0</td>\n",
       "    </tr>\n",
       "    <tr>\n",
       "      <th>3</th>\n",
       "      <td>Stopped by during the late May bank holiday of...</td>\n",
       "      <td>1</td>\n",
       "    </tr>\n",
       "    <tr>\n",
       "      <th>4</th>\n",
       "      <td>The selection on the menu was great and so wer...</td>\n",
       "      <td>1</td>\n",
       "    </tr>\n",
       "  </tbody>\n",
       "</table>\n",
       "</div>"
      ],
      "text/plain": [
       "                                              Review  Liked\n",
       "0                           Wow... Loved this place.      1\n",
       "1                                 Crust is not good.      0\n",
       "2          Not tasty and the texture was just nasty.      0\n",
       "3  Stopped by during the late May bank holiday of...      1\n",
       "4  The selection on the menu was great and so wer...      1"
      ]
     },
     "execution_count": 4,
     "metadata": {},
     "output_type": "execute_result"
    }
   ],
   "source": [
    "dataset.head()"
   ]
  },
  {
   "cell_type": "markdown",
   "metadata": {},
   "source": [
    "** Step -2 : Cleaning text , steming, removing stopwords**"
   ]
  },
  {
   "cell_type": "code",
   "execution_count": 33,
   "metadata": {},
   "outputs": [
    {
     "name": "stdout",
     "output_type": "stream",
     "text": [
      "<class 'pandas.core.frame.DataFrame'>\n",
      "RangeIndex: 1000 entries, 0 to 999\n",
      "Data columns (total 2 columns):\n",
      "Review    1000 non-null object\n",
      "Liked     1000 non-null int64\n",
      "dtypes: int64(1), object(1)\n",
      "memory usage: 15.7+ KB\n"
     ]
    }
   ],
   "source": [
    "dataset.info()"
   ]
  },
  {
   "cell_type": "code",
   "execution_count": 18,
   "metadata": {},
   "outputs": [],
   "source": [
    "text = dataset['Review']"
   ]
  },
  {
   "cell_type": "code",
   "execution_count": 17,
   "metadata": {},
   "outputs": [
    {
     "data": {
      "text/plain": [
       "'Wow... Loved this place.'"
      ]
     },
     "execution_count": 17,
     "metadata": {},
     "output_type": "execute_result"
    }
   ],
   "source": [
    "review = text[0]\n",
    "review"
   ]
  },
  {
   "cell_type": "code",
   "execution_count": 37,
   "metadata": {},
   "outputs": [],
   "source": [
    "data = []\n",
    "for i in range(len(dataset)):\n",
    "    review = text[i] # change into i\n",
    "    # step -1: converting letter into lower case\n",
    "    review = review.lower()\n",
    "    # step -2: removing special character and numerics\n",
    "    review = re.sub('[^a-z]',' ',review)\n",
    "    # step -3: convert sentence into list of words -> tokens\n",
    "    review = review.split()\n",
    "    # step -4: Stemming(extracting root word) and removing stopwords\n",
    "    ps = PorterStemmer()\n",
    "    review = [ps.stem(word) for word in review if not word in set(stop)]\n",
    "    review = ' '.join(review)# step 5: joining words \n",
    "    data.append(review) # appending data\n",
    "    "
   ]
  },
  {
   "cell_type": "markdown",
   "metadata": {},
   "source": [
    "**Step- 3 : Bag of word model**\n",
    "- CountVectorization"
   ]
  },
  {
   "cell_type": "code",
   "execution_count": 39,
   "metadata": {},
   "outputs": [],
   "source": [
    "from sklearn.feature_extraction.text import CountVectorizer"
   ]
  },
  {
   "cell_type": "code",
   "execution_count": 40,
   "metadata": {},
   "outputs": [],
   "source": [
    "cv = CountVectorizer()"
   ]
  },
  {
   "cell_type": "code",
   "execution_count": 43,
   "metadata": {},
   "outputs": [],
   "source": [
    "# Converting words into numbers (Word Embedding)\n",
    "X = cv.fit_transform(data).toarray() # all the clean stentence are in my data\n",
    "y = dataset['Liked'].values "
   ]
  },
  {
   "cell_type": "code",
   "execution_count": 47,
   "metadata": {},
   "outputs": [
    {
     "name": "stdout",
     "output_type": "stream",
     "text": [
      "1566\n",
      "['absolut', 'absolutley', 'accid', 'accommod', 'accomod', 'accordingli', 'account', 'ach', 'acknowledg', 'across', 'actual', 'ad', 'afford', 'afternoon', 'ago', 'ahead', 'airlin', 'airport', 'ala', 'albondiga', 'allergi', 'almond', 'almost', 'alon', 'also', 'although', 'alway', 'amaz', 'ambianc', 'ambienc', 'amount', 'ampl', 'andddd', 'angri', 'annoy', 'anoth', 'anticip', 'anymor', 'anyon', 'anyth', 'anytim', 'anyway', 'apart', 'apolog', 'app', 'appal', 'appar', 'appeal', 'appet', 'appetit', 'appl', 'approv', 'area', 'arepa', 'aria', 'around', 'array', 'arriv', 'articl', 'ask', 'assur', 'ate', 'atmospher', 'atroci', 'attach', 'attack', 'attent', 'attitud', 'auju', 'authent', 'averag', 'avocado', 'avoid', 'aw', 'away', 'awesom', 'awkward', 'awkwardli', 'ayc', 'az', 'baba', 'babi', 'bachi', 'back', 'bacon', 'bad', 'bagel', 'bakeri', 'baklava', 'ball', 'bamboo', 'banana', 'bank', 'bar', 'bare', 'bargain', 'bartend', 'base', 'basebal', 'basic', 'batch', 'bathroom', 'batter', 'bay', 'bbq', 'bean', 'beat', 'beateou', 'beauti', 'becom', 'beef', 'beer', 'begin', 'behind', 'believ', 'bellagio', 'belli', 'besid', 'best', 'better', 'beyond', 'big', 'bigger', 'biggest', 'bill', 'bing', 'bird', 'biscuit', 'bisqu', 'bit', 'bitch', 'bite', 'black', 'blah', 'blame', 'bland', 'blandest', 'blanket', 'block', 'bloddi', 'bloodi', 'bloodiest', 'blow', 'blown', 'blue', 'boba', 'bode', 'boil', 'bone', 'book', 'boot', 'bore', 'bother', 'bottom', 'bouchon', 'bought', 'bowl', 'box', 'boy', 'boyfriend', 'bread', 'break', 'breakfast', 'breez', 'brick', 'bring', 'brisket', 'brother', 'brought', 'brownish', 'brunch', 'bruschetta', 'brushfir', 'bu', 'buck', 'buffet', 'bug', 'build', 'buldogi', 'bunch', 'burger', 'burn', 'burritto', 'busi', 'bussel', 'butter', 'buy', 'bye', 'caballero', 'caesar', 'caf', 'cafe', 'cake', 'calamari', 'call', 'calligraphi', 'came', 'camelback', 'cannoli', 'cannot', 'cant', 'cape', 'caper', 'car', 'carb', 'care', 'carli', 'carpaccio', 'cart', 'cartel', 'case', 'cash', 'cashew', 'cashier', 'casino', 'caterpillar', 'caught', 'caus', 'cavier', 'certainli', 'chai', 'chain', 'chang', 'char', 'charcoal', 'charg', 'charm', 'cheap', 'cheat', 'check', 'cheek', 'chees', 'cheeseburg', 'cheesecurd', 'chef', 'chewi', 'chicken', 'chines', 'chip', 'chipolt', 'chipotl', 'chocol', 'choos', 'choux', 'chow', 'christma', 'cibo', 'circumst', 'claim', 'class', 'classi', 'classic', 'clean', 'climb', 'close', 'club', 'clue', 'cocktail', 'coconut', 'cod', 'coffe', 'cold', 'colder', 'colleg', 'color', 'combin', 'combo', 'come', 'comfort', 'common', 'compani', 'companion', 'complain', 'complaint', 'complet', 'compliment', 'con', 'concept', 'concern', 'conclus', 'condiment', 'connisseur', 'connoisseur', 'consid', 'consist', 'construct', 'contain', 'continu', 'conveni', 'cook', 'cool', 'corn', 'corpor', 'correct', 'cost', 'costco', 'cotta', 'could', 'count', 'coupl', 'coupon', 'cours', 'court', 'courteou', 'cover', 'cow', 'cozi', 'cr', 'crab', 'cram', 'cranberri', 'crave', 'crawfish', 'crazi', 'cream', 'creami', 'crema', 'crepe', 'crisp', 'crispi', 'crostini', 'crouton', 'crowd', 'crumbi', 'crust', 'crusti', 'crystal', 'cuisin', 'curri', 'custom', 'cut', 'cute', 'daili', 'damn', 'dark', 'date', 'daughter', 'day', 'dead', 'deal', 'decent', 'decid', 'decis', 'decor', 'dedic', 'deep', 'deepli', 'def', 'defin', 'definit', 'degre', 'del', 'delic', 'delici', 'delicioso', 'delight', 'delish', 'deliv', 'deliveri', 'denni', 'describ', 'descript', 'deserv', 'desir', 'despic', 'despit', 'dessert', 'deuchebaggeri', 'devin', 'die', 'differ', 'dime', 'dine', 'dinner', 'dip', 'dirt', 'dirti', 'disagre', 'disappoint', 'disapppoint', 'disast', 'disbelief', 'discount', 'disgrac', 'disgust', 'dish', 'dispens', 'disrespect', 'divers', 'do', 'dog', 'dollar', 'done', 'dont', 'donut', 'door', 'doubl', 'doubt', 'douchey', 'dough', 'doughi', 'downright', 'downsid', 'downtown', 'drag', 'drastic', 'draw', 'dream', 'drench', 'dress', 'dri', 'driest', 'drink', 'drip', 'drive', 'drop', 'drunk', 'duck', 'dude', 'due', 'duo', 'dust', 'dylan', 'easili', 'eat', 'eaten', 'eclect', 'ed', 'edibl', 'edinburgh', 'edit', 'eel', 'eew', 'effici', 'effort', 'egg', 'eggplant', 'either', 'elegantli', 'elk', 'els', 'elsewher', 'email', 'employe', 'empti', 'end', 'english', 'enjoy', 'enough', 'ensu', 'enthusiast', 'entir', 'entre', 'equal', 'especi', 'establish', 'etc', 'ethic', 'eve', 'even', 'event', 'ever', 'everi', 'everyon', 'everyth', 'everywher', 'exactli', 'excalibur', 'exceed', 'excel', 'except', 'excus', 'expand', 'expect', 'expens', 'experi', 'experienc', 'expert', 'exquisit', 'extens', 'extra', 'extraordinari', 'extrem', 'eye', 'fabul', 'fact', 'fail', 'fair', 'fairli', 'falafel', 'fall', 'famili', 'familiar', 'famou', 'fan', 'fanci', 'fantast', 'far', 'fare', 'fast', 'fat', 'fav', 'favor', 'favorit', 'fear', 'feel', 'fell', 'fella', 'fellow', 'felt', 'fianc', 'figur', 'filet', 'fill', 'fillet', 'final', 'find', 'fine', 'finger', 'finish', 'firebal', 'firehous', 'first', 'fish', 'five', 'flair', 'flat', 'flavor', 'flavorless', 'flavour', 'fli', 'flirt', 'flop', 'flower', 'fluffi', 'fo', 'focus', 'folk', 'fondu', 'food', 'foot', 'forev', 'forget', 'forth', 'forti', 'forward', 'found', 'four', 'francisco', 'freak', 'free', 'freez', 'frenchman', 'fresh', 'fri', 'friday', 'friend', 'friendli', 'front', 'frozen', 'fruit', 'frustrat', 'fs', 'fuck', 'full', 'fun', 'funni', 'furthermor', 'fuzzi', 'ga', 'ganoush', 'garden', 'garlic', 'gave', 'gc', 'gem', 'gener', 'genuin', 'get', 'giant', 'girlfriend', 'give', 'given', 'glad', 'glanc', 'glass', 'glove', 'gluten', 'go', 'goat', 'godfath', 'gold', 'golden', 'gone', 'good', 'googl', 'gooodd', 'gordon', 'got', 'gotten', 'gourmet', 'grab', 'grain', 'grandmoth', 'gratitud', 'gratuiti', 'greas', 'greasi', 'great', 'greatest', 'greedi', 'greek', 'green', 'greet', 'grill', 'gringo', 'gristl', 'groceri', 'gross', 'ground', 'group', 'grow', 'guacamol', 'guess', 'guest', 'guy', 'gyro', 'ha', 'hair', 'half', 'halibut', 'hamburg', 'han', 'hand', 'handl', 'handmad', 'hanker', 'happen', 'happi', 'happier', 'hard', 'hardest', 'hardli', 'hate', 'haunt', 'hawaiian', 'head', 'healthi', 'heard', 'heart', 'heat', 'heimer', 'held', 'hell', 'hella', 'hello', 'help', 'herea', 'hi', 'high', 'highli', 'highlight', 'hilari', 'hip', 'hiro', 'hit', 'hole', 'holiday', 'home', 'homemad', 'honeslti', 'honest', 'honestli', 'honor', 'hook', 'hope', 'horribl', 'hospit', 'host', 'hostess', 'hot', 'hottest', 'hour', 'hous', 'howev', 'huevo', 'huge', 'human', 'humili', 'hummu', 'hunan', 'hungri', 'hurri', 'husband', 'hut', 'ian', 'ice', 'idea', 'ignor', 'im', 'imagin', 'immedi', 'impecc', 'impress', 'inch', 'includ', 'inconsider', 'incred', 'indian', 'indic', 'indoor', 'industri', 'inexpens', 'inflat', 'inform', 'ingredi', 'insan', 'insid', 'inspir', 'instantli', 'instead', 'insult', 'interest', 'interior', 'invit', 'ironman', 'italian', 'item', 'jalapeno', 'jamaican', 'japanes', 'jeff', 'jenni', 'jerk', 'jewel', 'job', 'joey', 'join', 'joint', 'joke', 'joy', 'judg', 'juic', 'juri', 'kabuki', 'kept', 'key', 'khao', 'kid', 'kiddo', 'killer', 'kind', 'kitchen', 'know', 'known', 'la', 'lack', 'ladi', 'larg', 'larger', 'last', 'lastli', 'late', 'later', 'latt', 'law', 'lawyer', 'lb', 'least', 'leather', 'leav', 'left', 'leftov', 'leg', 'legit', 'lemon', 'less', 'let', 'letdown', 'lettuc', 'level', 'life', 'light', 'lighter', 'lightli', 'like', 'lil', 'limit', 'line', 'list', 'liter', 'littl', 'live', 'lobster', 'locat', 'long', 'longer', 'look', 'lordi', 'lost', 'lot', 'loudli', 'love', 'lover', 'low', 'lox', 'loyal', 'luck', 'luke', 'lukewarm', 'lunch', 'mac', 'macaron', 'made', 'madhous', 'madison', 'magazin', 'magic', 'main', 'maintain', 'make', 'mall', 'man', 'manag', 'mandalay', 'mango', 'mani', 'margarita', 'mari', 'maria', 'market', 'marrow', 'martini', 'massiv', 'may', 'mayb', 'mayo', 'meal', 'mean', 'meat', 'meatbal', 'meatloaf', 'mediocr', 'mediterranean', 'medium', 'meet', 'meh', 'mein', 'mellow', 'melt', 'memori', 'mention', 'menu', 'mesquit', 'mess', 'metro', 'mexican', 'mgm', 'mid', 'middl', 'might', 'mile', 'militari', 'milk', 'milkshak', 'min', 'mind', 'minut', 'mirag', 'miss', 'mistak', 'mix', 'mmmm', 'modern', 'moist', 'mojito', 'mom', 'money', 'monster', 'month', 'mood', 'mortifi', 'mostli', 'mouth', 'movi', 'moz', 'mozzarella', 'much', 'muffin', 'multi', 'multipl', 'mushroom', 'music', 'mussel', 'must', 'naan', 'nacho', 'name', 'nan', 'nargil', 'nasti', 'nay', 'nearli', 'neat', 'need', 'needless', 'neglig', 'neighborhood', 'neither', 'never', 'new', 'next', 'nice', 'nicest', 'night', 'nigiri', 'ninja', 'nobu', 'noca', 'non', 'none', 'noodl', 'north', 'not', 'note', 'noth', 'nude', 'number', 'nut', 'nutshel', 'nyc', 'obvious', 'occas', 'occasion', 'offer', 'offici', 'oh', 'ohhh', 'oil', 'ok', 'old', 'older', 'oliv', 'omelet', 'omg', 'one', 'onion', 'open', 'oper', 'opinion', 'opportun', 'oppos', 'option', 'order', 'origin', 'other', 'otherwis', 'otto', 'outdoor', 'outrag', 'outshin', 'outsid', 'outstand', 'outta', 'oven', 'overal', 'overcook', 'overhaul', 'overpr', 'overwhelm', 'own', 'owner', 'oyster', 'pace', 'pack', 'paid', 'palat', 'pale', 'palm', 'pan', 'pancak', 'panna', 'paper', 'par', 'paradis', 'parent', 'part', 'parti', 'particular', 'pass', 'past', 'pasta', 'pastri', 'pat', 'patio', 'patron', 'patti', 'pay', 'pe', 'pea', 'peach', 'peanut', 'pear', 'pecan', 'penn', 'peopl', 'pepper', 'perfect', 'perfectli', 'perform', 'perhap', 'perpar', 'person', 'petrifi', 'petti', 'phenomen', 'philadelphia', 'pho', 'phoenix', 'piano', 'pictur', 'piec', 'pile', 'pine', 'pineappl', 'pink', 'pissd', 'pita', 'pizza', 'place', 'plain', 'plantain', 'plastic', 'plate', 'plater', 'platter', 'play', 'pleas', 'pleasant', 'pleasur', 'plethora', 'plu', 'pneumat', 'point', 'poison', 'polit', 'poop', 'poor', 'poorli', 'pop', 'pork', 'portion', 'posit', 'possibl', 'postino', 'potato', 'pour', 'powder', 'power', 'prefer', 'prepar', 'present', 'pretti', 'price', 'pricey', 'prime', 'privileg', 'pro', 'probabl', 'problem', 'proclaim', 'profession', 'profiterol', 'profound', 'promis', 'prompt', 'promptli', 'properli', 'proven', 'provid', 'pub', 'public', 'publicli', 'puck', 'pull', 'pumpkin', 'pur', 'pure', 'put', 'quaint', 'qualifi', 'qualiti', 'quantiti', 'quick', 'quickli', 'quit', 'ramsey', 'ranch', 'ranchero', 'rapidli', 'rare', 'raspberri', 'rate', 'rather', 'ratio', 'rave', 'ravoli', 'read', 'reader', 'real', 'realiz', 'realli', 'reason', 'recal', 'receiv', 'recent', 'recommend', 'red', 'redeem', 'reduct', 'refil', 'refrain', 'refresh', 'refri', 'refus', 'regist', 'regular', 'regularli', 'reheat', 'relationship', 'relax', 'relleno', 'reloc', 'rememb', 'remind', 'replenish', 'request', 'reserv', 'rest', 'restaraunt', 'restaur', 'return', 'review', 'revisit', 'rge', 'ri', 'rib', 'ribey', 'rice', 'rich', 'rick', 'ridicul', 'right', 'ring', 'rins', 'rip', 'risotto', 'roast', 'rock', 'roll', 'room', 'rotat', 'round', 'rowdi', 'rubber', 'rude', 'run', 'rush', 'ryan', 'sad', 'sadli', 'saffron', 'saganaki', 'said', 'sal', 'salad', 'salmon', 'salsa', 'salt', 'salti', 'sampl', 'san', 'sandwich', 'sangria', 'sashimi', 'sat', 'satifi', 'satisfi', 'sauc', 'saus', 'save', 'say', 'scallop', 'scene', 'scottsdal', 'scream', 'screw', 'seafood', 'seal', 'season', 'seat', 'second', 'section', 'see', 'seem', 'seen', 'select', 'self', 'send', 'sens', 'sergeant', 'serious', 'serivc', 'serv', 'server', 'servic', 'set', 'sever', 'sewer', 'sexi', 'shall', 'sharpli', 'shawarrrrrrma', 'shirt', 'shock', 'shoe', 'shoot', 'shop', 'short', 'shot', 'show', 'shower', 'shrimp', 'sick', 'side', 'sign', 'silent', 'similar', 'similarli', 'simpl', 'simpli', 'sinc', 'singl', 'sit', 'six', 'skimp', 'slaw', 'slice', 'slow', 'small', 'smaller', 'smashburg', 'smear', 'smell', 'smoke', 'smooth', 'smoothi', 'soggi', 'soi', 'solid', 'solidifi', 'somehow', 'someon', 'someth', 'somethat', 'somewhat', 'son', 'song', 'soon', 'soooo', 'sooooo', 'soooooo', 'sore', 'sorri', 'sound', 'soundtrack', 'soup', 'sour', 'southwest', 'space', 'spaghetti', 'special', 'speedi', 'spend', 'spice', 'spici', 'spicier', 'spinach', 'sport', 'spot', 'spotti', 'spring', 'sprout', 'staff', 'stale', 'standard', 'star', 'start', 'starv', 'station', 'stay', 'steak', 'steakhous', 'steiner', 'step', 'steve', 'stick', 'still', 'stink', 'stir', 'stomach', 'stood', 'stop', 'store', 'strang', 'stranger', 'strawberri', 'street', 'stretch', 'strike', 'string', 'strip', 'struck', 'struggl', 'stuf', 'stuff', 'stupid', 'style', 'styrofoam', 'sub', 'subpar', 'subway', 'succul', 'suck', 'sucker', 'suffer', 'sugar', 'sugari', 'suggest', 'summar', 'summari', 'summer', 'sun', 'sunday', 'sunglass', 'super', 'suppos', 'sure', 'surpris', 'sushi', 'sweet', 'swung', 'tabl', 'taco', 'tailor', 'take', 'takeout', 'talk', 'tap', 'tapa', 'tartar', 'tast', 'tasteless', 'tasti', 'tater', 'tea', 'teamwork', 'teeth', 'tell', 'temp', 'ten', 'tender', 'tepid', 'terribl', 'terrif', 'textur', 'th', 'thai', 'thank', 'that', 'theft', 'thick', 'thin', 'thing', 'think', 'thinli', 'third', 'thirti', 'thoroughli', 'though', 'thought', 'three', 'thrill', 'thru', 'thu', 'thumb', 'tigerlilli', 'time', 'tini', 'tip', 'tiramisu', 'toast', 'today', 'togeth', 'told', 'toler', 'tomato', 'tongu', 'tonight', 'took', 'top', 'topic', 'toro', 'tot', 'total', 'touch', 'tough', 'toward', 'town', 'track', 'tradit', 'tragedi', 'transcend', 'trap', 'treat', 'tri', 'tribut', 'trim', 'trip', 'trippi', 'truffl', 'truli', 'tucson', 'tummi', 'tuna', 'turkey', 'turn', 'tv', 'twice', 'two', 'typic', 'unbeliev', 'undercook', 'understand', 'underwhelm', 'unexperienc', 'unfortun', 'unhealthi', 'uninspir', 'uniqu', 'unless', 'unprofession', 'unreal', 'unsatisfi', 'untoast', 'unwelcom', 'unwrap', 'updat', 'upgrad', 'upload', 'us', 'use', 'usual', 'vacant', 'vain', 'valley', 'valu', 'vanilla', 'veal', 'vega', 'vegan', 'veget', 'vegetarian', 'veggi', 'veggitarian', 'velvet', 'ventil', 'ventur', 'venu', 'verg', 'version', 'via', 'vibe', 'vinaigrett', 'vinegrett', 'violinist', 'visit', 'vodka', 'vomit', 'voodoo', 'vote', 'waaaaaayyyyyyyyyi', 'wagyu', 'wait', 'waiter', 'waitress', 'walk', 'wall', 'want', 'warm', 'warmer', 'warn', 'wash', 'wast', 'watch', 'water', 'wave', 'way', 'wayyy', 'weak', 'websit', 'wedg', 'week', 'weekend', 'weekli', 'weird', 'welcom', 'well', 'went', 'whatsoev', 'whelm', 'whenev', 'whether', 'white', 'whole', 'wide', 'wienerschnitzel', 'wife', 'wildli', 'wine', 'wing', 'winner', 'wire', 'wish', 'wit', 'without', 'wonder', 'wonton', 'word', 'work', 'worker', 'world', 'worri', 'wors', 'worst', 'worth', 'would', 'wound', 'wow', 'wrap', 'write', 'wrong', 'ya', 'yama', 'yay', 'yeah', 'year', 'yellow', 'yellowtail', 'yelper', 'yet', 'yucki', 'yukon', 'yum', 'yummi', 'zero']\n"
     ]
    }
   ],
   "source": [
    "print(len(cv.get_feature_names()))\n",
    "print(cv.get_feature_names())"
   ]
  },
  {
   "cell_type": "markdown",
   "metadata": {},
   "source": [
    "**Step -4: Spliting data into traning and testing set**"
   ]
  },
  {
   "cell_type": "code",
   "execution_count": 48,
   "metadata": {},
   "outputs": [],
   "source": [
    "from sklearn.cross_validation import train_test_split"
   ]
  },
  {
   "cell_type": "code",
   "execution_count": 49,
   "metadata": {},
   "outputs": [],
   "source": [
    "x_train, x_test, y_train, y_test = train_test_split(X,y, test_size = 0.2,\n",
    "                                                   random_state =0 )"
   ]
  },
  {
   "cell_type": "code",
   "execution_count": 50,
   "metadata": {},
   "outputs": [
    {
     "data": {
      "text/plain": [
       "((800, 1566), (200, 1566), (800,), (200,))"
      ]
     },
     "execution_count": 50,
     "metadata": {},
     "output_type": "execute_result"
    }
   ],
   "source": [
    "x_train.shape, x_test.shape, y_train.shape, y_test.shape"
   ]
  },
  {
   "cell_type": "markdown",
   "metadata": {},
   "source": [
    "**Step -5: Building Machine Learning Mode -> MultinomialNB, GaussianNB**"
   ]
  },
  {
   "cell_type": "code",
   "execution_count": 51,
   "metadata": {},
   "outputs": [],
   "source": [
    "from sklearn.naive_bayes import MultinomialNB, GaussianNB"
   ]
  },
  {
   "cell_type": "code",
   "execution_count": 52,
   "metadata": {},
   "outputs": [],
   "source": [
    "model_M = MultinomialNB() # alpha is tuning parameter\n",
    "model_G = GaussianNB()"
   ]
  },
  {
   "cell_type": "code",
   "execution_count": 53,
   "metadata": {},
   "outputs": [],
   "source": [
    "model_M.fit(x_train,y_train)\n",
    "model_G.fit(x_train,y_train)\n",
    "y_pred_M = model_M.predict(x_test)\n",
    "y_pred_G = model_G.predict(x_test)"
   ]
  },
  {
   "cell_type": "markdown",
   "metadata": {},
   "source": [
    "**Step -6 Evaluation Model**"
   ]
  },
  {
   "cell_type": "code",
   "execution_count": 54,
   "metadata": {},
   "outputs": [],
   "source": [
    "from sklearn.metrics import confusion_matrix, classification_report"
   ]
  },
  {
   "cell_type": "code",
   "execution_count": 55,
   "metadata": {},
   "outputs": [],
   "source": [
    "cm_M = confusion_matrix(y_test,y_pred_M)\n",
    "cm_G = confusion_matrix(y_test,y_pred_G)\n",
    "\n",
    "cr_M = classification_report(y_test,y_pred_M)\n",
    "cr_G = classification_report(y_test, y_pred_G)"
   ]
  },
  {
   "cell_type": "code",
   "execution_count": 56,
   "metadata": {},
   "outputs": [],
   "source": [
    "import seaborn as sns\n",
    "import matplotlib.pyplot as plt"
   ]
  },
  {
   "cell_type": "code",
   "execution_count": 57,
   "metadata": {},
   "outputs": [
    {
     "data": {
      "image/png": "[encoded data removed]",
      "text/plain": [
       "<matplotlib.figure.Figure at 0x89b345898>"
      ]
     },
     "metadata": {},
     "output_type": "display_data"
    },
    {
     "data": {
      "image/png": "[encoded data removed]",
      "text/plain": [
       "<matplotlib.figure.Figure at 0x89b0ed588>"
      ]
     },
     "metadata": {},
     "output_type": "display_data"
    },
    {
     "name": "stdout",
     "output_type": "stream",
     "text": [
      "             precision    recall  f1-score   support\n",
      "\n",
      "          0       0.77      0.76      0.77        97\n",
      "          1       0.78      0.79      0.78       103\n",
      "\n",
      "avg / total       0.77      0.78      0.77       200\n",
      "\n",
      "==================================================\n",
      "             precision    recall  f1-score   support\n",
      "\n",
      "          0       0.82      0.57      0.67        97\n",
      "          1       0.68      0.88      0.77       103\n",
      "\n",
      "avg / total       0.75      0.73      0.72       200\n",
      "\n"
     ]
    }
   ],
   "source": [
    "sns.heatmap(cm_M,annot=True,cmap='summer')\n",
    "plt.title('Mutlinomial NB')\n",
    "plt.show()\n",
    "sns.heatmap(cm_G,annot=True,cmap='winter')\n",
    "plt.title('Gaussian NB')\n",
    "plt.show()\n",
    "print(cr_M)\n",
    "print('='*50)\n",
    "print(cr_G)"
   ]
  },
  {
   "cell_type": "markdown",
   "metadata": {},
   "source": [
    "# Testing Model"
   ]
  },
  {
   "cell_type": "code",
   "execution_count": 58,
   "metadata": {},
   "outputs": [],
   "source": [
    "test = 'I hate this Machine Learning class.... Srikanth is really boring'"
   ]
  },
  {
   "cell_type": "markdown",
   "metadata": {},
   "source": [
    "- 1 ->  postive review \n",
    "- 0 ->  negative reivew"
   ]
  },
  {
   "cell_type": "code",
   "execution_count": 60,
   "metadata": {},
   "outputs": [
    {
     "data": {
      "text/plain": [
       "'hate machin learn class realli bore'"
      ]
     },
     "execution_count": 60,
     "metadata": {},
     "output_type": "execute_result"
    }
   ],
   "source": [
    "review = test # change into i\n",
    "# step -1: converting letter into lower case\n",
    "review = review.lower()\n",
    "# step -2: removing special character and numerics\n",
    "review = re.sub('[^a-z]',' ',review)\n",
    "# step -3: convert sentence into list of words -> tokens\n",
    "review = review.split()\n",
    "# step -4: Stemming(extracting root word) and removing stopwords\n",
    "ps = PorterStemmer()\n",
    "review = [ps.stem(word) for word in review if not word in set(stop)]\n",
    "review = ' '.join(review)# step 5: joining words \n",
    "review"
   ]
  },
  {
   "cell_type": "code",
   "execution_count": 61,
   "metadata": {},
   "outputs": [],
   "source": [
    "test_arr = cv.transform([review]) # pass in list"
   ]
  },
  {
   "cell_type": "code",
   "execution_count": 62,
   "metadata": {},
   "outputs": [
    {
     "data": {
      "text/plain": [
       "array([0], dtype=int64)"
      ]
     },
     "execution_count": 62,
     "metadata": {},
     "output_type": "execute_result"
    }
   ],
   "source": [
    "model_M.predict(test_arr)"
   ]
  },
  {
   "cell_type": "code",
   "execution_count": null,
   "metadata": {},
   "outputs": [],
   "source": []
  }
 ],
 "metadata": {
  "kernelspec": {
   "display_name": "Python 3",
   "language": "python",
   "name": "python3"
  },
  "language_info": {
   "codemirror_mode": {
    "name": "ipython",
    "version": 3
   },
   "file_extension": ".py",
   "mimetype": "text/x-python",
   "name": "python",
   "nbconvert_exporter": "python",
   "pygments_lexer": "ipython3",
   "version": "3.6.4"
  }
 },
 "nbformat": 4,
 "nbformat_minor": 2
}
